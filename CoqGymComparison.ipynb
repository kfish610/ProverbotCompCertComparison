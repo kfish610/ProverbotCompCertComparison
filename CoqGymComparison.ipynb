{
 "cells": [
  {
   "cell_type": "markdown",
   "metadata": {},
   "source": [
    "## Setup"
   ]
  },
  {
   "cell_type": "code",
   "execution_count": 1,
   "metadata": {},
   "outputs": [],
   "source": [
    "# Web Scraping\n",
    "import requests\n",
    "import bs4\n",
    "from urllib.parse import urljoin\n",
    "\n",
    "# Data Manipulation\n",
    "import numpy as np\n",
    "import pandas as pd\n",
    "\n",
    "from pandas import IndexSlice as idx\n",
    "\n",
    "from sklearn.feature_extraction.text import CountVectorizer, TfidfVectorizer\n",
    "\n",
    "# Data Visualization\n",
    "import matplotlib.pyplot as plt\n",
    "import seaborn as sns"
   ]
  },
  {
   "cell_type": "markdown",
   "metadata": {},
   "source": [
    "## Data"
   ]
  },
  {
   "cell_type": "code",
   "execution_count": 2,
   "metadata": {},
   "outputs": [],
   "source": [
    "# Current latest report URL\n",
    "REPORT_URL = 'https://proverbot9001.ucsd.edu/reports/2022-10-27T16d14d03-0700+6579b6846b7d8862fa80b21bdc7d45b0ad6ea048/'\n",
    "\n",
    "# Get the report information and load into BS4\n",
    "r = requests.get(REPORT_URL)\n",
    "index_soup = bs4.BeautifulSoup(r.content)"
   ]
  },
  {
   "cell_type": "code",
   "execution_count": 3,
   "metadata": {},
   "outputs": [],
   "source": [
    "# Grab each row in the table (without the header or the total)\n",
    "table_rows = index_soup.table.find_all('tr')[1:]\n",
    "\n",
    "# Associate each section with a URL for its data\n",
    "section_urls = [row.a['href'] for row in table_rows]\n",
    "\n",
    "# Turn each link into a soup\n",
    "section_soups = [(href.removesuffix('index.html'), bs4.BeautifulSoup(requests.get(urljoin(REPORT_URL, href)).content)) for href in section_urls]"
   ]
  },
  {
   "cell_type": "code",
   "execution_count": 4,
   "metadata": {},
   "outputs": [],
   "source": [
    "# Do the same, but for each file in each section now\n",
    "section_rows = [(section, soup.table.find_all('tr')[1:-1]) for section, soup in section_soups]\n",
    "file_urls = [(section, [row.a['href'] for row in rows]) for section, rows in section_rows]\n",
    "file_soups = [[(section + href.removesuffix('.html'), bs4.BeautifulSoup(requests.get(urljoin(REPORT_URL, section + href)).content)) for href in hrefs] for section, hrefs in file_urls]\n",
    "\n",
    "# Flatten\n",
    "file_soups = sum(file_soups, [])"
   ]
  },
  {
   "cell_type": "code",
   "execution_count": 5,
   "metadata": {},
   "outputs": [],
   "source": [
    "def process_file_soup(fname: str, soup: bs4.BeautifulSoup):\n",
    "    # Grab all theorems and proofs\n",
    "    relevant_elems = soup.select('button.collapsible, div.region')\n",
    "\n",
    "    # Separate into alternating theorems and proofs, and check that each theorem (button) is followed by a theorem (div)\n",
    "    thm_elems = relevant_elems[::2]\n",
    "    prf_elems = relevant_elems[1::2]\n",
    "    assert(all(x.name == 'button' for x in thm_elems))\n",
    "    assert(all(x.name == 'div' for x in prf_elems))\n",
    "\n",
    "    # Get all theorems, along with whether Proverbot succeeded\n",
    "    theorems = [(thm.code.text, thm['class'][1]) for thm in thm_elems]\n",
    "    theorems_df = pd.DataFrame(data=theorems, columns=['theorem', 'result'])\n",
    "\n",
    "    # Get all proofs, and separate into the predicted proof and the original proof\n",
    "    pred_orig_proofs = [(prf.find(class_='predicted').find_all('span'), prf.find(class_='original').find_all('span')) for prf in prf_elems]\n",
    "\n",
    "    # For each such proof, separate out only the text and subgoals\n",
    "    proofs = [([(x.text, x['data-subgoals']) for x in pred], [(x.text, x['data-subgoals']) for x in orig]) for pred, orig in pred_orig_proofs]\n",
    "\n",
    "    # Create a DataFrame to hold these\n",
    "    proofs_df = pd.DataFrame(proofs, columns=['pred', 'orig'])\n",
    "\n",
    "    # Melt and reset to get theorem index and source as columns\n",
    "    proofs_df = pd.melt(proofs_df, value_vars=['pred', 'orig'], var_name='source', ignore_index=False).reset_index(names='theorem')\n",
    "\n",
    "    # Explode to turn the lists into rows, groupby cumulative count to give line numbers\n",
    "    proofs_df = proofs_df.explode('value').reset_index(names='line')\n",
    "    proofs_df['line'] = proofs_df.groupby('line').cumcount()\n",
    "\n",
    "    # Combine theorem, source, and line number into our final multi-index\n",
    "    proofs_df = proofs_df.set_index(['theorem', 'source', 'line']).sort_index()\n",
    "\n",
    "    # Separate our combined value column into tactics and subgoals, then delete the redundant column\n",
    "    proofs_df[['tactic', 'subgoals']] = pd.DataFrame(proofs_df['value'].to_list(), index=proofs_df.index)\n",
    "    del proofs_df['value']\n",
    "\n",
    "    # Return both with fname for easy unzipping\n",
    "    return [(fname, theorems_df), (fname, proofs_df)]"
   ]
  },
  {
   "cell_type": "code",
   "execution_count": 6,
   "metadata": {},
   "outputs": [],
   "source": [
    "full_data = [process_file_soup(fname, soup) for fname, soup in file_soups]\n",
    "\n",
    "# Unzip our data (organized by proofs vs theorems instead of by filename primarily)\n",
    "unzip_theorems, unzip_proofs = zip(*full_data)\n",
    "\n",
    "theorem_df = pd.concat(dict(unzip_theorems))\n",
    "theorem_df.index = theorem_df.index.set_names(['fname', 'index'])\n",
    "\n",
    "# We also remove skipped theorems, as Proverbot pretends they do not exist\n",
    "raw_proof_df = pd.concat(dict(unzip_proofs)).loc[theorem_df['result'] != 'skipped']\n",
    "raw_proof_df.index = raw_proof_df.index.set_names({None: 'fname'})"
   ]
  },
  {
   "cell_type": "code",
   "execution_count": 7,
   "metadata": {},
   "outputs": [
    {
     "data": {
      "text/html": [
       "<div>\n",
       "<style scoped>\n",
       "    .dataframe tbody tr th:only-of-type {\n",
       "        vertical-align: middle;\n",
       "    }\n",
       "\n",
       "    .dataframe tbody tr th {\n",
       "        vertical-align: top;\n",
       "    }\n",
       "\n",
       "    .dataframe thead th {\n",
       "        text-align: right;\n",
       "    }\n",
       "</style>\n",
       "<table border=\"1\" class=\"dataframe\">\n",
       "  <thead>\n",
       "    <tr style=\"text-align: right;\">\n",
       "      <th></th>\n",
       "      <th></th>\n",
       "      <th>theorem</th>\n",
       "      <th>result</th>\n",
       "    </tr>\n",
       "    <tr>\n",
       "      <th>fname</th>\n",
       "      <th>index</th>\n",
       "      <th></th>\n",
       "      <th></th>\n",
       "    </tr>\n",
       "  </thead>\n",
       "  <tbody>\n",
       "    <tr>\n",
       "      <th rowspan=\"5\" valign=\"top\">goedel/primRec</th>\n",
       "      <th>0</th>\n",
       "      <td>Lemma evalProjFuncInd :\\n forall (n m : nat) (...</td>\n",
       "      <td>okay</td>\n",
       "    </tr>\n",
       "    <tr>\n",
       "      <th>1</th>\n",
       "      <td>Definition extEqualVectorGeneral (n m : nat) (...</td>\n",
       "      <td>skipped</td>\n",
       "    </tr>\n",
       "    <tr>\n",
       "      <th>2</th>\n",
       "      <td>Definition extEqualVector n: forall m (l l' : ...</td>\n",
       "      <td>skipped</td>\n",
       "    </tr>\n",
       "    <tr>\n",
       "      <th>3</th>\n",
       "      <td>Lemma extEqualVectorRefl :\\n forall (n m : nat...</td>\n",
       "      <td>okay</td>\n",
       "    </tr>\n",
       "    <tr>\n",
       "      <th>4</th>\n",
       "      <td>Lemma extEqualOneParamList :\\n forall (n m : n...</td>\n",
       "      <td>okay</td>\n",
       "    </tr>\n",
       "    <tr>\n",
       "      <th>...</th>\n",
       "      <th>...</th>\n",
       "      <td>...</td>\n",
       "      <td>...</td>\n",
       "    </tr>\n",
       "    <tr>\n",
       "      <th>UnifySL/Complete_Trivial</th>\n",
       "      <th>0</th>\n",
       "      <td>Lemma general_completeness: strongly_complete ...</td>\n",
       "      <td>bad</td>\n",
       "    </tr>\n",
       "    <tr>\n",
       "      <th rowspan=\"3\" valign=\"top\">UnifySL/PropositionalLogicZsDeepEmbeddedZsKripkeSemanticsZdv</th>\n",
       "      <th>0</th>\n",
       "      <td>Instance kiSM (M: Kmodel) {_: Kmodel_Monotonic...</td>\n",
       "      <td>okay</td>\n",
       "    </tr>\n",
       "    <tr>\n",
       "      <th>1</th>\n",
       "      <td>Instance kminSM (M: Kmodel): KripkeMinimumSema...</td>\n",
       "      <td>skipped</td>\n",
       "    </tr>\n",
       "    <tr>\n",
       "      <th>2</th>\n",
       "      <td>Instance kpSM (M: Kmodel): KripkePropositional...</td>\n",
       "      <td>skipped</td>\n",
       "    </tr>\n",
       "    <tr>\n",
       "      <th>UnifySL/PropositionalLanguage</th>\n",
       "      <th>0</th>\n",
       "      <td>Definition formula_countable: forall {Sigma}, ...</td>\n",
       "      <td>okay</td>\n",
       "    </tr>\n",
       "  </tbody>\n",
       "</table>\n",
       "<p>12186 rows × 2 columns</p>\n",
       "</div>"
      ],
      "text/plain": [
       "                                                                                                    theorem  \\\n",
       "fname                                              index                                                      \n",
       "goedel/primRec                                     0      Lemma evalProjFuncInd :\\n forall (n m : nat) (...   \n",
       "                                                   1      Definition extEqualVectorGeneral (n m : nat) (...   \n",
       "                                                   2      Definition extEqualVector n: forall m (l l' : ...   \n",
       "                                                   3      Lemma extEqualVectorRefl :\\n forall (n m : nat...   \n",
       "                                                   4      Lemma extEqualOneParamList :\\n forall (n m : n...   \n",
       "...                                                                                                     ...   \n",
       "UnifySL/Complete_Trivial                           0      Lemma general_completeness: strongly_complete ...   \n",
       "UnifySL/PropositionalLogicZsDeepEmbeddedZsKripk... 0      Instance kiSM (M: Kmodel) {_: Kmodel_Monotonic...   \n",
       "                                                   1      Instance kminSM (M: Kmodel): KripkeMinimumSema...   \n",
       "                                                   2      Instance kpSM (M: Kmodel): KripkePropositional...   \n",
       "UnifySL/PropositionalLanguage                      0      Definition formula_countable: forall {Sigma}, ...   \n",
       "\n",
       "                                                           result  \n",
       "fname                                              index           \n",
       "goedel/primRec                                     0         okay  \n",
       "                                                   1      skipped  \n",
       "                                                   2      skipped  \n",
       "                                                   3         okay  \n",
       "                                                   4         okay  \n",
       "...                                                           ...  \n",
       "UnifySL/Complete_Trivial                           0          bad  \n",
       "UnifySL/PropositionalLogicZsDeepEmbeddedZsKripk... 0         okay  \n",
       "                                                   1      skipped  \n",
       "                                                   2      skipped  \n",
       "UnifySL/PropositionalLanguage                      0         okay  \n",
       "\n",
       "[12186 rows x 2 columns]"
      ]
     },
     "execution_count": 7,
     "metadata": {},
     "output_type": "execute_result"
    }
   ],
   "source": [
    "theorem_df"
   ]
  },
  {
   "cell_type": "code",
   "execution_count": 8,
   "metadata": {},
   "outputs": [
    {
     "data": {
      "text/html": [
       "<div>\n",
       "<style scoped>\n",
       "    .dataframe tbody tr th:only-of-type {\n",
       "        vertical-align: middle;\n",
       "    }\n",
       "\n",
       "    .dataframe tbody tr th {\n",
       "        vertical-align: top;\n",
       "    }\n",
       "\n",
       "    .dataframe thead th {\n",
       "        text-align: right;\n",
       "    }\n",
       "</style>\n",
       "<table border=\"1\" class=\"dataframe\">\n",
       "  <thead>\n",
       "    <tr style=\"text-align: right;\">\n",
       "      <th></th>\n",
       "      <th></th>\n",
       "      <th></th>\n",
       "      <th></th>\n",
       "      <th>tactic</th>\n",
       "      <th>subgoals</th>\n",
       "    </tr>\n",
       "    <tr>\n",
       "      <th>fname</th>\n",
       "      <th>theorem</th>\n",
       "      <th>source</th>\n",
       "      <th>line</th>\n",
       "      <th></th>\n",
       "      <th></th>\n",
       "    </tr>\n",
       "  </thead>\n",
       "  <tbody>\n",
       "    <tr>\n",
       "      <th rowspan=\"5\" valign=\"top\">goedel/primRec</th>\n",
       "      <th rowspan=\"5\" valign=\"top\">0</th>\n",
       "      <th rowspan=\"5\" valign=\"top\">orig</th>\n",
       "      <th>0</th>\n",
       "      <td>Proof.</td>\n",
       "      <td>((\"forall (n m : nat) (p1 p2 : lt m n),\\neq (e...</td>\n",
       "    </tr>\n",
       "    <tr>\n",
       "      <th>1</th>\n",
       "      <td>intro.</td>\n",
       "      <td>((\"forall (n m : nat) (p1 p2 : lt m n),\\neq (e...</td>\n",
       "    </tr>\n",
       "    <tr>\n",
       "      <th>2</th>\n",
       "      <td>induction n as [| n Hrecn].</td>\n",
       "      <td>((\"forall (m : nat) (p1 p2 : lt m n),\\neq (eva...</td>\n",
       "    </tr>\n",
       "    <tr>\n",
       "      <th>3</th>\n",
       "      <td>intros.</td>\n",
       "      <td>((\"forall (m : nat) (p1 p2 : lt m O),\\neq (eva...</td>\n",
       "    </tr>\n",
       "    <tr>\n",
       "      <th>4</th>\n",
       "      <td>elim (lt_n_O _ p1).</td>\n",
       "      <td>((\"eq (evalProjFunc O m p1) (evalProjFunc O m ...</td>\n",
       "    </tr>\n",
       "    <tr>\n",
       "      <th>...</th>\n",
       "      <th>...</th>\n",
       "      <th>...</th>\n",
       "      <th>...</th>\n",
       "      <td>...</td>\n",
       "      <td>...</td>\n",
       "    </tr>\n",
       "    <tr>\n",
       "      <th rowspan=\"5\" valign=\"top\">UnifySL/PropositionalLanguage</th>\n",
       "      <th rowspan=\"5\" valign=\"top\">0</th>\n",
       "      <th rowspan=\"3\" valign=\"top\">orig</th>\n",
       "      <th>57</th>\n",
       "      <td>simpl in H.</td>\n",
       "      <td>((\"eq a1 a2\", (\"H : eq\\n  (existT (fun n : nat...</td>\n",
       "    </tr>\n",
       "    <tr>\n",
       "      <th>58</th>\n",
       "      <td>inversion H; auto.</td>\n",
       "      <td>((\"eq a1 a2\", (\"H : eq\\n  (existT (fun n : nat...</td>\n",
       "    </tr>\n",
       "    <tr>\n",
       "      <th>59</th>\n",
       "      <td>Qed.</td>\n",
       "      <td>()</td>\n",
       "    </tr>\n",
       "    <tr>\n",
       "      <th rowspan=\"2\" valign=\"top\">pred</th>\n",
       "      <th>0</th>\n",
       "      <td>Proof.</td>\n",
       "      <td>((\"forall (Sigma : PropositionalVariables) (_ ...</td>\n",
       "    </tr>\n",
       "    <tr>\n",
       "      <th>1</th>\n",
       "      <td>Admitted.</td>\n",
       "      <td>((\"forall (Sigma : PropositionalVariables) (_ ...</td>\n",
       "    </tr>\n",
       "  </tbody>\n",
       "</table>\n",
       "<p>264423 rows × 2 columns</p>\n",
       "</div>"
      ],
      "text/plain": [
       "                                                                        tactic  \\\n",
       "fname                         theorem source line                                \n",
       "goedel/primRec                0       orig   0                          Proof.   \n",
       "                                             1                          intro.   \n",
       "                                             2     induction n as [| n Hrecn].   \n",
       "                                             3                         intros.   \n",
       "                                             4             elim (lt_n_O _ p1).   \n",
       "...                                                                        ...   \n",
       "UnifySL/PropositionalLanguage 0       orig   57                    simpl in H.   \n",
       "                                             58             inversion H; auto.   \n",
       "                                             59                           Qed.   \n",
       "                                      pred   0                          Proof.   \n",
       "                                             1                       Admitted.   \n",
       "\n",
       "                                                                                            subgoals  \n",
       "fname                         theorem source line                                                     \n",
       "goedel/primRec                0       orig   0     ((\"forall (n m : nat) (p1 p2 : lt m n),\\neq (e...  \n",
       "                                             1     ((\"forall (n m : nat) (p1 p2 : lt m n),\\neq (e...  \n",
       "                                             2     ((\"forall (m : nat) (p1 p2 : lt m n),\\neq (eva...  \n",
       "                                             3     ((\"forall (m : nat) (p1 p2 : lt m O),\\neq (eva...  \n",
       "                                             4     ((\"eq (evalProjFunc O m p1) (evalProjFunc O m ...  \n",
       "...                                                                                              ...  \n",
       "UnifySL/PropositionalLanguage 0       orig   57    ((\"eq a1 a2\", (\"H : eq\\n  (existT (fun n : nat...  \n",
       "                                             58    ((\"eq a1 a2\", (\"H : eq\\n  (existT (fun n : nat...  \n",
       "                                             59                                                   ()  \n",
       "                                      pred   0     ((\"forall (Sigma : PropositionalVariables) (_ ...  \n",
       "                                             1     ((\"forall (Sigma : PropositionalVariables) (_ ...  \n",
       "\n",
       "[264423 rows x 2 columns]"
      ]
     },
     "execution_count": 8,
     "metadata": {},
     "output_type": "execute_result"
    }
   ],
   "source": [
    "raw_proof_df"
   ]
  },
  {
   "cell_type": "markdown",
   "metadata": {},
   "source": [
    "### Data Cleaning"
   ]
  },
  {
   "cell_type": "markdown",
   "metadata": {},
   "source": [
    "There are some proofs for which there is no predicted output at all. These show up as NaNs, so we remove them to allow more operations on the `DataFrame`."
   ]
  },
  {
   "cell_type": "code",
   "execution_count": 9,
   "metadata": {},
   "outputs": [
    {
     "data": {
      "text/html": [
       "<div>\n",
       "<style scoped>\n",
       "    .dataframe tbody tr th:only-of-type {\n",
       "        vertical-align: middle;\n",
       "    }\n",
       "\n",
       "    .dataframe tbody tr th {\n",
       "        vertical-align: top;\n",
       "    }\n",
       "\n",
       "    .dataframe thead th {\n",
       "        text-align: right;\n",
       "    }\n",
       "</style>\n",
       "<table border=\"1\" class=\"dataframe\">\n",
       "  <thead>\n",
       "    <tr style=\"text-align: right;\">\n",
       "      <th></th>\n",
       "      <th></th>\n",
       "      <th></th>\n",
       "      <th></th>\n",
       "      <th>tactic</th>\n",
       "      <th>subgoals</th>\n",
       "    </tr>\n",
       "    <tr>\n",
       "      <th>fname</th>\n",
       "      <th>theorem</th>\n",
       "      <th>source</th>\n",
       "      <th>line</th>\n",
       "      <th></th>\n",
       "      <th></th>\n",
       "    </tr>\n",
       "  </thead>\n",
       "  <tbody>\n",
       "    <tr>\n",
       "      <th>goedel/primRec</th>\n",
       "      <th>88</th>\n",
       "      <th>pred</th>\n",
       "      <th>0</th>\n",
       "      <td>NaN</td>\n",
       "      <td>None</td>\n",
       "    </tr>\n",
       "    <tr>\n",
       "      <th>goedel/codeSubFormula</th>\n",
       "      <th>35</th>\n",
       "      <th>pred</th>\n",
       "      <th>0</th>\n",
       "      <td>NaN</td>\n",
       "      <td>None</td>\n",
       "    </tr>\n",
       "    <tr>\n",
       "      <th>goedel/folProp</th>\n",
       "      <th>31</th>\n",
       "      <th>pred</th>\n",
       "      <th>0</th>\n",
       "      <td>NaN</td>\n",
       "      <td>None</td>\n",
       "    </tr>\n",
       "    <tr>\n",
       "      <th rowspan=\"2\" valign=\"top\">goedel/cPair</th>\n",
       "      <th>1</th>\n",
       "      <th>pred</th>\n",
       "      <th>0</th>\n",
       "      <td>NaN</td>\n",
       "      <td>None</td>\n",
       "    </tr>\n",
       "    <tr>\n",
       "      <th>17</th>\n",
       "      <th>pred</th>\n",
       "      <th>0</th>\n",
       "      <td>NaN</td>\n",
       "      <td>None</td>\n",
       "    </tr>\n",
       "    <tr>\n",
       "      <th>...</th>\n",
       "      <th>...</th>\n",
       "      <th>...</th>\n",
       "      <th>...</th>\n",
       "      <td>...</td>\n",
       "      <td>...</td>\n",
       "    </tr>\n",
       "    <tr>\n",
       "      <th>dep-map/DepMapImplementation</th>\n",
       "      <th>31</th>\n",
       "      <th>pred</th>\n",
       "      <th>0</th>\n",
       "      <td>NaN</td>\n",
       "      <td>None</td>\n",
       "    </tr>\n",
       "    <tr>\n",
       "      <th>verdi/StatePacketPacketDecomposition</th>\n",
       "      <th>6</th>\n",
       "      <th>pred</th>\n",
       "      <th>0</th>\n",
       "      <td>NaN</td>\n",
       "      <td>None</td>\n",
       "    </tr>\n",
       "    <tr>\n",
       "      <th>UnifySL/Intuitionistic</th>\n",
       "      <th>26</th>\n",
       "      <th>pred</th>\n",
       "      <th>0</th>\n",
       "      <td>NaN</td>\n",
       "      <td>None</td>\n",
       "    </tr>\n",
       "    <tr>\n",
       "      <th>UnifySL/Relation_ext</th>\n",
       "      <th>6</th>\n",
       "      <th>pred</th>\n",
       "      <th>0</th>\n",
       "      <td>NaN</td>\n",
       "      <td>None</td>\n",
       "    </tr>\n",
       "    <tr>\n",
       "      <th>UnifySL/MinimumLogicZsProofTheoryZsRewriteClassZdv</th>\n",
       "      <th>10</th>\n",
       "      <th>pred</th>\n",
       "      <th>0</th>\n",
       "      <td>NaN</td>\n",
       "      <td>None</td>\n",
       "    </tr>\n",
       "  </tbody>\n",
       "</table>\n",
       "<p>161 rows × 2 columns</p>\n",
       "</div>"
      ],
      "text/plain": [
       "                                                                       tactic  \\\n",
       "fname                                              theorem source line          \n",
       "goedel/primRec                                     88      pred   0       NaN   \n",
       "goedel/codeSubFormula                              35      pred   0       NaN   \n",
       "goedel/folProp                                     31      pred   0       NaN   \n",
       "goedel/cPair                                       1       pred   0       NaN   \n",
       "                                                   17      pred   0       NaN   \n",
       "...                                                                       ...   \n",
       "dep-map/DepMapImplementation                       31      pred   0       NaN   \n",
       "verdi/StatePacketPacketDecomposition               6       pred   0       NaN   \n",
       "UnifySL/Intuitionistic                             26      pred   0       NaN   \n",
       "UnifySL/Relation_ext                               6       pred   0       NaN   \n",
       "UnifySL/MinimumLogicZsProofTheoryZsRewriteClassZdv 10      pred   0       NaN   \n",
       "\n",
       "                                                                       subgoals  \n",
       "fname                                              theorem source line           \n",
       "goedel/primRec                                     88      pred   0        None  \n",
       "goedel/codeSubFormula                              35      pred   0        None  \n",
       "goedel/folProp                                     31      pred   0        None  \n",
       "goedel/cPair                                       1       pred   0        None  \n",
       "                                                   17      pred   0        None  \n",
       "...                                                                         ...  \n",
       "dep-map/DepMapImplementation                       31      pred   0        None  \n",
       "verdi/StatePacketPacketDecomposition               6       pred   0        None  \n",
       "UnifySL/Intuitionistic                             26      pred   0        None  \n",
       "UnifySL/Relation_ext                               6       pred   0        None  \n",
       "UnifySL/MinimumLogicZsProofTheoryZsRewriteClassZdv 10      pred   0        None  \n",
       "\n",
       "[161 rows x 2 columns]"
      ]
     },
     "execution_count": 9,
     "metadata": {},
     "output_type": "execute_result"
    }
   ],
   "source": [
    "raw_proof_df.loc[raw_proof_df['tactic'].isna()]"
   ]
  },
  {
   "cell_type": "code",
   "execution_count": 10,
   "metadata": {},
   "outputs": [],
   "source": [
    "# With NAs removed, we can now interpret this DataFrame as all strings\n",
    "str_proof_df = raw_proof_df.dropna(how='any').astype(str)"
   ]
  },
  {
   "cell_type": "markdown",
   "metadata": {},
   "source": [
    "We will now remove the first and last line of each proof, since it contains no interesting information. This will also incidentally remove all `Proof. Admitted.` \"proofs\" created when Proverbot failed. \n",
    "\n",
    "There are some original proofs that do not start with some version of the `Proof` command. These are primarily due to the `Next Obligation.` command, so we will make sure not to remove the first line of these proofs."
   ]
  },
  {
   "cell_type": "code",
   "execution_count": 11,
   "metadata": {},
   "outputs": [
    {
     "data": {
      "text/html": [
       "<div>\n",
       "<style scoped>\n",
       "    .dataframe tbody tr th:only-of-type {\n",
       "        vertical-align: middle;\n",
       "    }\n",
       "\n",
       "    .dataframe tbody tr th {\n",
       "        vertical-align: top;\n",
       "    }\n",
       "\n",
       "    .dataframe thead th {\n",
       "        text-align: right;\n",
       "    }\n",
       "</style>\n",
       "<table border=\"1\" class=\"dataframe\">\n",
       "  <thead>\n",
       "    <tr style=\"text-align: right;\">\n",
       "      <th></th>\n",
       "      <th></th>\n",
       "      <th></th>\n",
       "      <th></th>\n",
       "      <th>tactic</th>\n",
       "      <th>subgoals</th>\n",
       "    </tr>\n",
       "    <tr>\n",
       "      <th>fname</th>\n",
       "      <th>theorem</th>\n",
       "      <th>source</th>\n",
       "      <th>line</th>\n",
       "      <th></th>\n",
       "      <th></th>\n",
       "    </tr>\n",
       "  </thead>\n",
       "  <tbody>\n",
       "    <tr>\n",
       "      <th rowspan=\"5\" valign=\"top\">goedel/primRec</th>\n",
       "      <th>49</th>\n",
       "      <th>orig</th>\n",
       "      <th>0</th>\n",
       "      <td>apply (filter010IsPR _ succIsPR).</td>\n",
       "      <td>((\"isPR (S (S (S O))) (fun _ fn _ : nat =&gt; S f...</td>\n",
       "    </tr>\n",
       "    <tr>\n",
       "      <th>51</th>\n",
       "      <th>orig</th>\n",
       "      <th>0</th>\n",
       "      <td>apply (filter011IsPR _ plusIsPR).</td>\n",
       "      <td>((\"isPR (S (S (S O))) (fun _ fn b : nat =&gt; Ini...</td>\n",
       "    </tr>\n",
       "    <tr>\n",
       "      <th>54</th>\n",
       "      <th>orig</th>\n",
       "      <th>0</th>\n",
       "      <td>apply (filter010IsPR _ predIsPR).</td>\n",
       "      <td>((\"isPR (S (S (S O))) (fun _ fn _ : nat =&gt; Ini...</td>\n",
       "    </tr>\n",
       "    <tr>\n",
       "      <th>58</th>\n",
       "      <th>orig</th>\n",
       "      <th>0</th>\n",
       "      <td>intros.</td>\n",
       "      <td>((\"forall (a b : nat) (_ : eq (ltBool a b) tru...</td>\n",
       "    </tr>\n",
       "    <tr>\n",
       "      <th>59</th>\n",
       "      <th>orig</th>\n",
       "      <th>0</th>\n",
       "      <td>intros.</td>\n",
       "      <td>((\"forall (a b : nat) (_ : eq (ltBool a b) fal...</td>\n",
       "    </tr>\n",
       "    <tr>\n",
       "      <th>...</th>\n",
       "      <th>...</th>\n",
       "      <th>...</th>\n",
       "      <th>...</th>\n",
       "      <td>...</td>\n",
       "      <td>...</td>\n",
       "    </tr>\n",
       "    <tr>\n",
       "      <th>UnifySL/Countable</th>\n",
       "      <th>0</th>\n",
       "      <th>orig</th>\n",
       "      <th>0</th>\n",
       "      <td>apply (FBuild_injection _ _ (fun _ =&gt; 0)).</td>\n",
       "      <td>((\"Countable unit\", (\"\")))</td>\n",
       "    </tr>\n",
       "    <tr>\n",
       "      <th>UnifySL/Bijection</th>\n",
       "      <th>8</th>\n",
       "      <th>orig</th>\n",
       "      <th>0</th>\n",
       "      <td>apply (Build_injection _ _ (fun a b =&gt; projT1 ...</td>\n",
       "      <td>((\"injection (sigT A) (prod I B)\", (\"R : foral...</td>\n",
       "    </tr>\n",
       "    <tr>\n",
       "      <th>UnifySL/register_typeclass</th>\n",
       "      <th>0</th>\n",
       "      <th>orig</th>\n",
       "      <th>0</th>\n",
       "      <td>intros.</td>\n",
       "      <td>((\"forall (_ : RegisterClass unit O O) (_ : Re...</td>\n",
       "    </tr>\n",
       "    <tr>\n",
       "      <th>UnifySL/MinimumLanguage</th>\n",
       "      <th>0</th>\n",
       "      <th>orig</th>\n",
       "      <th>0</th>\n",
       "      <td>intros.</td>\n",
       "      <td>((\"forall (Var : Type) (_ : Countable Var), Co...</td>\n",
       "    </tr>\n",
       "    <tr>\n",
       "      <th>UnifySL/PropositionalLanguage</th>\n",
       "      <th>0</th>\n",
       "      <th>orig</th>\n",
       "      <th>0</th>\n",
       "      <td>intros.</td>\n",
       "      <td>((\"forall (Sigma : PropositionalVariables) (_ ...</td>\n",
       "    </tr>\n",
       "  </tbody>\n",
       "</table>\n",
       "<p>1850 rows × 2 columns</p>\n",
       "</div>"
      ],
      "text/plain": [
       "                                                                                              tactic  \\\n",
       "fname                         theorem source line                                                      \n",
       "goedel/primRec                49      orig   0                     apply (filter010IsPR _ succIsPR).   \n",
       "                              51      orig   0                     apply (filter011IsPR _ plusIsPR).   \n",
       "                              54      orig   0                     apply (filter010IsPR _ predIsPR).   \n",
       "                              58      orig   0                                               intros.   \n",
       "                              59      orig   0                                               intros.   \n",
       "...                                                                                              ...   \n",
       "UnifySL/Countable             0       orig   0            apply (FBuild_injection _ _ (fun _ => 0)).   \n",
       "UnifySL/Bijection             8       orig   0     apply (Build_injection _ _ (fun a b => projT1 ...   \n",
       "UnifySL/register_typeclass    0       orig   0                                               intros.   \n",
       "UnifySL/MinimumLanguage       0       orig   0                                               intros.   \n",
       "UnifySL/PropositionalLanguage 0       orig   0                                               intros.   \n",
       "\n",
       "                                                                                            subgoals  \n",
       "fname                         theorem source line                                                     \n",
       "goedel/primRec                49      orig   0     ((\"isPR (S (S (S O))) (fun _ fn _ : nat => S f...  \n",
       "                              51      orig   0     ((\"isPR (S (S (S O))) (fun _ fn b : nat => Ini...  \n",
       "                              54      orig   0     ((\"isPR (S (S (S O))) (fun _ fn _ : nat => Ini...  \n",
       "                              58      orig   0     ((\"forall (a b : nat) (_ : eq (ltBool a b) tru...  \n",
       "                              59      orig   0     ((\"forall (a b : nat) (_ : eq (ltBool a b) fal...  \n",
       "...                                                                                              ...  \n",
       "UnifySL/Countable             0       orig   0                            ((\"Countable unit\", (\"\")))  \n",
       "UnifySL/Bijection             8       orig   0     ((\"injection (sigT A) (prod I B)\", (\"R : foral...  \n",
       "UnifySL/register_typeclass    0       orig   0     ((\"forall (_ : RegisterClass unit O O) (_ : Re...  \n",
       "UnifySL/MinimumLanguage       0       orig   0     ((\"forall (Var : Type) (_ : Countable Var), Co...  \n",
       "UnifySL/PropositionalLanguage 0       orig   0     ((\"forall (Sigma : PropositionalVariables) (_ ...  \n",
       "\n",
       "[1850 rows x 2 columns]"
      ]
     },
     "execution_count": 11,
     "metadata": {},
     "output_type": "execute_result"
    }
   ],
   "source": [
    "missing_start = str_proof_df.loc[idx[:, :, :, 0], :].loc[~str_proof_df['tactic'].str.startswith('Proof')].index\n",
    "\n",
    "str_proof_df.loc[missing_start]"
   ]
  },
  {
   "cell_type": "markdown",
   "metadata": {},
   "source": [
    "We will want to remove all aborted proofs, since they can't be reasonable compared. The other interesting ending is \"Save\", which seems to work the same as Qed but for goals, so it will just be removed as usual. There are also some proofs that contain only \"Qed\", and these will also have to be removed."
   ]
  },
  {
   "cell_type": "code",
   "execution_count": 12,
   "metadata": {},
   "outputs": [
    {
     "data": {
      "text/html": [
       "<div>\n",
       "<style scoped>\n",
       "    .dataframe tbody tr th:only-of-type {\n",
       "        vertical-align: middle;\n",
       "    }\n",
       "\n",
       "    .dataframe tbody tr th {\n",
       "        vertical-align: top;\n",
       "    }\n",
       "\n",
       "    .dataframe thead th {\n",
       "        text-align: right;\n",
       "    }\n",
       "</style>\n",
       "<table border=\"1\" class=\"dataframe\">\n",
       "  <thead>\n",
       "    <tr style=\"text-align: right;\">\n",
       "      <th></th>\n",
       "      <th></th>\n",
       "      <th></th>\n",
       "      <th></th>\n",
       "      <th>tactic</th>\n",
       "      <th>subgoals</th>\n",
       "    </tr>\n",
       "    <tr>\n",
       "      <th>fname</th>\n",
       "      <th>theorem</th>\n",
       "      <th>source</th>\n",
       "      <th>line</th>\n",
       "      <th></th>\n",
       "      <th></th>\n",
       "    </tr>\n",
       "  </thead>\n",
       "  <tbody>\n",
       "    <tr>\n",
       "      <th rowspan=\"2\" valign=\"top\">UnifySL/ExtensionTactic</th>\n",
       "      <th>6</th>\n",
       "      <th>orig</th>\n",
       "      <th>2</th>\n",
       "      <td>Abort.</td>\n",
       "      <td>((\"forall x : expr, provable (impp x x)\", (\"mi...</td>\n",
       "    </tr>\n",
       "    <tr>\n",
       "      <th>7</th>\n",
       "      <th>orig</th>\n",
       "      <th>2</th>\n",
       "      <td>Abort.</td>\n",
       "      <td>((\"forall (Phi : context) (x y z : expr),\\nder...</td>\n",
       "    </tr>\n",
       "    <tr>\n",
       "      <th rowspan=\"3\" valign=\"top\">UnifySL/OSAExamples</th>\n",
       "      <th>22</th>\n",
       "      <th>orig</th>\n",
       "      <th>6</th>\n",
       "      <td>Abort.</td>\n",
       "      <td>((\"ex\\n  (fun n1 : natPlus =&gt;\\n   ex\\n     (fu...</td>\n",
       "    </tr>\n",
       "    <tr>\n",
       "      <th>24</th>\n",
       "      <th>orig</th>\n",
       "      <th>4</th>\n",
       "      <td>Abort.</td>\n",
       "      <td>((\"ex\\n  (fun m : natPlus =&gt;\\n   ex (fun n' : ...</td>\n",
       "    </tr>\n",
       "    <tr>\n",
       "      <th>38</th>\n",
       "      <th>orig</th>\n",
       "      <th>15</th>\n",
       "      <td>(*subst; reflexivity.*)\\nQed.</td>\n",
       "      <td>()</td>\n",
       "    </tr>\n",
       "    <tr>\n",
       "      <th>...</th>\n",
       "      <th>...</th>\n",
       "      <th>...</th>\n",
       "      <th>...</th>\n",
       "      <td>...</td>\n",
       "      <td>...</td>\n",
       "    </tr>\n",
       "    <tr>\n",
       "      <th rowspan=\"3\" valign=\"top\">demos/Demo</th>\n",
       "      <th>4</th>\n",
       "      <th>orig</th>\n",
       "      <th>5</th>\n",
       "      <td>Save Plus_assoc.</td>\n",
       "      <td>()</td>\n",
       "    </tr>\n",
       "    <tr>\n",
       "      <th>5</th>\n",
       "      <th>orig</th>\n",
       "      <th>1</th>\n",
       "      <td>Save assoc_Plus.</td>\n",
       "      <td>()</td>\n",
       "    </tr>\n",
       "    <tr>\n",
       "      <th>6</th>\n",
       "      <th>orig</th>\n",
       "      <th>2</th>\n",
       "      <td>Save size_assoc.</td>\n",
       "      <td>()</td>\n",
       "    </tr>\n",
       "    <tr>\n",
       "      <th>verdi-raft/LeaderLogsContiguousProof</th>\n",
       "      <th>12</th>\n",
       "      <th>orig</th>\n",
       "      <th>2</th>\n",
       "      <td>(* and finish *)\\n  Qed.</td>\n",
       "      <td>()</td>\n",
       "    </tr>\n",
       "    <tr>\n",
       "      <th>weak-up-to/Relations</th>\n",
       "      <th>12</th>\n",
       "      <th>orig</th>\n",
       "      <th>0</th>\n",
       "      <td>Proof fun x y H =&gt; H.</td>\n",
       "      <td>((\"incl R R\", (\"S,R,T : relation2 X Y\",\"X,Y : ...</td>\n",
       "    </tr>\n",
       "  </tbody>\n",
       "</table>\n",
       "<p>63 rows × 2 columns</p>\n",
       "</div>"
      ],
      "text/plain": [
       "                                                                                 tactic  \\\n",
       "fname                                theorem source line                                  \n",
       "UnifySL/ExtensionTactic              6       orig   2                            Abort.   \n",
       "                                     7       orig   2                            Abort.   \n",
       "UnifySL/OSAExamples                  22      orig   6                            Abort.   \n",
       "                                     24      orig   4                            Abort.   \n",
       "                                     38      orig   15    (*subst; reflexivity.*)\\nQed.   \n",
       "...                                                                                 ...   \n",
       "demos/Demo                           4       orig   5                  Save Plus_assoc.   \n",
       "                                     5       orig   1                  Save assoc_Plus.   \n",
       "                                     6       orig   2                  Save size_assoc.   \n",
       "verdi-raft/LeaderLogsContiguousProof 12      orig   2          (* and finish *)\\n  Qed.   \n",
       "weak-up-to/Relations                 12      orig   0             Proof fun x y H => H.   \n",
       "\n",
       "                                                                                                   subgoals  \n",
       "fname                                theorem source line                                                     \n",
       "UnifySL/ExtensionTactic              6       orig   2     ((\"forall x : expr, provable (impp x x)\", (\"mi...  \n",
       "                                     7       orig   2     ((\"forall (Phi : context) (x y z : expr),\\nder...  \n",
       "UnifySL/OSAExamples                  22      orig   6     ((\"ex\\n  (fun n1 : natPlus =>\\n   ex\\n     (fu...  \n",
       "                                     24      orig   4     ((\"ex\\n  (fun m : natPlus =>\\n   ex (fun n' : ...  \n",
       "                                     38      orig   15                                                   ()  \n",
       "...                                                                                                     ...  \n",
       "demos/Demo                           4       orig   5                                                    ()  \n",
       "                                     5       orig   1                                                    ()  \n",
       "                                     6       orig   2                                                    ()  \n",
       "verdi-raft/LeaderLogsContiguousProof 12      orig   2                                                    ()  \n",
       "weak-up-to/Relations                 12      orig   0     ((\"incl R R\", (\"S,R,T : relation2 X Y\",\"X,Y : ...  \n",
       "\n",
       "[63 rows x 2 columns]"
      ]
     },
     "execution_count": 12,
     "metadata": {},
     "output_type": "execute_result"
    }
   ],
   "source": [
    "# Get the last line of each proof by looking at the max line number of each proof.\n",
    "end_lines = str_proof_df.reset_index(level='line')['line'].groupby(level=['fname', 'theorem', 'source']).max()\n",
    "\n",
    "# Convert this maximum back to an index (line)\n",
    "end_index = end_lines.to_frame().reset_index().set_index(['fname', 'theorem', 'source', 'line']).sort_index().index\n",
    "\n",
    "# Show all end tactics that aren't Qed, Defined, or Admitted\n",
    "str_proof_df.loc[end_index].loc[idx[:, :, 'orig', :], :].loc[~str_proof_df['tactic'].isin(['Qed.', 'Admitted.', 'Defined.'])]"
   ]
  },
  {
   "cell_type": "markdown",
   "metadata": {},
   "source": [
    "We now remove the first and last lines of every proof, except for the proofs requiring special treatment (the single line proofs and the ones that don't start with `Proof`). This does lose a small amount of information if there are proofs that contain `Proof with <tactic>.`, since it will become unknown what the `...` refers to, but this can always be recovered, and is very rare."
   ]
  },
  {
   "cell_type": "code",
   "execution_count": 13,
   "metadata": {},
   "outputs": [],
   "source": [
    "one_line_df = str_proof_df.loc[end_index[end_lines == 0]]\n",
    "\n",
    "# Get rid of the irrelevant proofs\n",
    "includes_abort = str_proof_df.loc[str_proof_df['tactic'].str.endswith('Abort.')].index\n",
    "only_qed = one_line_df.loc[one_line_df['tactic'].str.endswith('Qed.')].index\n",
    "filter_df = str_proof_df.loc[~str_proof_df.index.isin(includes_abort.union(only_qed).droplevel(('line', 'source')))]\n",
    "\n",
    "# Get full proofs where the first line is not Proof or some variant thereof\n",
    "missing_start_full = filter_df.loc[filter_df.index.isin(missing_start.droplevel('line'))].index\n",
    "\n",
    "# Combine the 7 proofs without a \"Proof\" or other similar no-op tactic to start\n",
    "# and the 8 proofs that are exactly 1 line.\n",
    "unusual_index = missing_start_full.union(end_index[end_lines == 0])\n",
    "\n",
    "# A DataFrame of all the proofs that don't need special treatment\n",
    "normal_index = filter_df.index.difference(unusual_index)\n",
    "normal_df = filter_df.loc[normal_index]\n",
    "\n",
    "# Indexes the start and end of every \"normal\" proof\n",
    "normal_start_index = normal_df.loc[idx[:, :, :, 0], :].index\n",
    "normal_end_index = filter_df.index.intersection(end_index.difference(unusual_index))\n",
    "to_remove_index = normal_start_index.union(normal_end_index)\n",
    "\n",
    "# Remove the first and last lines, then decrement line count by one (zero indexing)\n",
    "fixed_normal_df = normal_df.drop(index=to_remove_index).reset_index()\n",
    "fixed_normal_df['line'] = fixed_normal_df['line'] - 1\n",
    "\n",
    "# Since `Proof term.` is the same as `exact term. Qed.`, and we are removing `Qed.`, we can just replace `Proof` with `exact`.\n",
    "one_line_df['tactic'] = one_line_df['tactic'].str.replace(\"Proof\", \"exact\")\n",
    "\n",
    "proof_df = pd.concat((\n",
    "    one_line_df.loc[one_line_df.index.intersection(filter_df.index)],\n",
    "    fixed_normal_df.set_index(['fname', 'theorem', 'source', 'line']),\n",
    "    filter_df.loc[missing_start_full].drop(index=end_index.intersection(missing_start_full))\n",
    ")).sort_index()\n",
    "assert(proof_df.index.is_unique)"
   ]
  },
  {
   "cell_type": "markdown",
   "metadata": {},
   "source": [
    "Finally, we create a couple of `DataFrames` that are ready to have analyses run on them."
   ]
  },
  {
   "cell_type": "code",
   "execution_count": 14,
   "metadata": {},
   "outputs": [],
   "source": [
    "# `proof_df` contains all proofs with any useful data; this is all original proofs, along with any predicted proof with something generated\n",
    "# Contains all 508 + 133 original and predicted proofs, respectively\n",
    "\n",
    "# Mirrored DataFrame; it contains a proof if and only if there is both an original proof and a predicted proof in proof_df\n",
    "# Since there are no proofs in the predicted set but not in the original set, this means it contains only the proofs with generated output\n",
    "# This makes comparisons more apples-to-apples, but may bias towards easier proofs\n",
    "useful_thms = proof_df.loc[idx[:, :, 'pred', :], :].reset_index(['source', 'line']).index.unique()\n",
    "mirror_proof_df = proof_df.loc[proof_df.index.isin(useful_thms)]"
   ]
  },
  {
   "cell_type": "markdown",
   "metadata": {},
   "source": [
    "## Analysis"
   ]
  },
  {
   "cell_type": "markdown",
   "metadata": {},
   "source": [
    "We verify on the next line that each line in our proofs contains exactly one tactic (or a bullet). There are some lines that certainly do more than one thing, however, since the `;` operator allows two or more tactics to be squished together. Whether these should be counted as separate lines is arguable, since the `;` operator also applies the second tactic on each subgoal generated, which is different than the usual behavior. Because it is difficult to estimate how many lines this tactical saves (since it could be anywhere from 1-100 lines depending on the number of subgoals), we leave it as is here, but note that it is one of the reasons for the shorter line counts."
   ]
  },
  {
   "cell_type": "code",
   "execution_count": 15,
   "metadata": {},
   "outputs": [],
   "source": [
    "a = proof_df.tactic.str.count('[-+*.{]$')\n",
    "assert(len(a[a!=1]) == 0)"
   ]
  },
  {
   "cell_type": "markdown",
   "metadata": {},
   "source": [
    "### Proof Line Counts"
   ]
  },
  {
   "cell_type": "markdown",
   "metadata": {},
   "source": [
    "We now compare the line counts of the proofs in the dataset."
   ]
  },
  {
   "cell_type": "code",
   "execution_count": 16,
   "metadata": {},
   "outputs": [],
   "source": [
    "def calc_line_count(df: pd.DataFrame):\n",
    "    # Length of each proof is the last line index, plus 1 due to 0 indexing\n",
    "    return df.reset_index('line')['line'].groupby(['fname', 'theorem', 'source']).max() + 1\n",
    "\n",
    "def plot_line_count(df: pd.DataFrame, ax = None, **kwargs):\n",
    "    lens = calc_line_count(df).reset_index()\n",
    "    # Normalize separately since the number of items in the two subsets are not the same\n",
    "    norm_lens = pd.concat([lens[lens.source == 'orig'].value_counts(normalize=True), lens[lens.source == 'pred'].value_counts(normalize=True)]).reset_index()\n",
    "\n",
    "    ax = sns.histplot(data=norm_lens, x='line', weights='proportion', hue='source', discrete=True, ax=ax)\n",
    "    ax.set(xlabel='Line Count', ylabel='Proportion', **kwargs);"
   ]
  },
  {
   "cell_type": "code",
   "execution_count": 17,
   "metadata": {},
   "outputs": [
    {
     "data": {
      "image/png": "[encoded data removed]",
      "text/plain": [
       "<Figure size 2000x500 with 2 Axes>"
      ]
     },
     "metadata": {},
     "output_type": "display_data"
    }
   ],
   "source": [
    "# Remove the 300 line proof so that we can see what is happening\n",
    "acceptable = proof_df.index #.difference(proof_df.loc[idx['Selectionproof', 56, 'orig', :], :].index)\n",
    "\n",
    "fig, axs = plt.subplots(1, 2, sharey=True, figsize=(20, 5), width_ratios=[1, 3])\n",
    "fig.tight_layout()\n",
    "\n",
    "plot_line_count(mirror_proof_df,          ax=axs[0], xticks=range(0, 25, 2), title='Line Count (Mirrored)', xlim=(-1, 25))\n",
    "plot_line_count(proof_df.loc[acceptable], ax=axs[1], xticks=range(0, 81, 5), title='Line Count (All)',      xlim=(-1, 81))"
   ]
  },
  {
   "cell_type": "code",
   "execution_count": 18,
   "metadata": {},
   "outputs": [
    {
     "data": {
      "text/plain": [
       "mean       6.108889\n",
       "median     5.000000\n",
       "min        1.000000\n",
       "max       20.000000\n",
       "Name: line, dtype: float64"
      ]
     },
     "execution_count": 18,
     "metadata": {},
     "output_type": "execute_result"
    }
   ],
   "source": [
    "# Average of solutions by Proverbot:\n",
    "calc_line_count(mirror_proof_df.loc[idx[:, :, 'pred'], :]).agg(['mean', 'median', 'min', 'max'])"
   ]
  },
  {
   "cell_type": "code",
   "execution_count": 19,
   "metadata": {},
   "outputs": [
    {
     "data": {
      "text/plain": [
       "mean        4.200444\n",
       "median      3.000000\n",
       "min         1.000000\n",
       "max       129.000000\n",
       "Name: line, dtype: float64"
      ]
     },
     "execution_count": 19,
     "metadata": {},
     "output_type": "execute_result"
    }
   ],
   "source": [
    "# Average of original proofs also solved by Proverbot:\n",
    "calc_line_count(mirror_proof_df.loc[idx[:, :, 'orig'], :]).agg(['mean', 'median', 'min', 'max'])"
   ]
  },
  {
   "cell_type": "code",
   "execution_count": 20,
   "metadata": {},
   "outputs": [
    {
     "data": {
      "text/plain": [
       "mean        17.383729\n",
       "median       7.000000\n",
       "min          1.000000\n",
       "max       1599.000000\n",
       "Name: line, dtype: float64"
      ]
     },
     "execution_count": 20,
     "metadata": {},
     "output_type": "execute_result"
    }
   ],
   "source": [
    "# Average of all original proofs:\n",
    "calc_line_count(proof_df.loc[idx[:, :, 'orig'], :]).agg(['mean', 'median', 'min', 'max'])"
   ]
  },
  {
   "cell_type": "code",
   "execution_count": 21,
   "metadata": {},
   "outputs": [
    {
     "data": {
      "image/png": "[encoded data removed]",
      "text/plain": [
       "<Figure size 640x480 with 1 Axes>"
      ]
     },
     "metadata": {},
     "output_type": "display_data"
    }
   ],
   "source": [
    "lens = calc_line_count(mirror_proof_df)\n",
    "ax = sns.histplot(lens.loc[idx[:, :, 'pred']] - lens.loc[idx[:, :, 'orig']], discrete=True)\n",
    "ax.set(xlim=[-16, 16], yticks=range(0, 341, 20), xlabel=\"Extra Predicted Lines\", title=\"Distribution of Line Count Increases/Decreases\")\n",
    "ax.axvline(0, color='k', linestyle='--');"
   ]
  },
  {
   "cell_type": "code",
   "execution_count": 22,
   "metadata": {},
   "outputs": [
    {
     "data": {
      "text/plain": [
       "mean      1.908444\n",
       "median    2.000000\n",
       "Name: line, dtype: float64"
      ]
     },
     "execution_count": 22,
     "metadata": {},
     "output_type": "execute_result"
    }
   ],
   "source": [
    "(lens.loc[idx[:, :, 'pred']] - lens.loc[idx[:, :, 'orig']]).agg(['mean', 'median'])"
   ]
  },
  {
   "cell_type": "markdown",
   "metadata": {},
   "source": [
    "Indeed, we see that most Proverbot proofs use around 2 extra lines over the original, although a small selection do better than the original (negative values)."
   ]
  },
  {
   "cell_type": "markdown",
   "metadata": {},
   "source": [
    "### Tactic Frequency"
   ]
  },
  {
   "cell_type": "code",
   "execution_count": 23,
   "metadata": {},
   "outputs": [
    {
     "data": {
      "text/plain": [
       "fname                   theorem  source  line\n",
       "PolTac/NAux             0        orig    0            intros\n",
       "                                         1              case\n",
       "                                         2              case\n",
       "                                         3            unfold\n",
       "                                         4             simpl\n",
       "                                                    ...     \n",
       "zorns-lemma/ZornsLemma  8        orig    94          rewrite\n",
       "                                         95      constructor\n",
       "                                         96              now\n",
       "                                         97               **\n",
       "                                         98              now\n",
       "Name: 0, Length: 262838, dtype: object"
      ]
     },
     "execution_count": 23,
     "metadata": {},
     "output_type": "execute_result"
    }
   ],
   "source": [
    "# Strip comments\n",
    "no_comments = proof_df.tactic.str.replace(r'\\(\\*.*?\\*\\)', '', regex=True)\n",
    "# Strip goal selectors\n",
    "no_selectors = no_comments.str.replace(r'^\\d+:', '', regex=True)\n",
    "# Delete Ltac declarations\n",
    "no_ltac = no_selectors.drop(index=no_selectors[no_selectors.str.startswith('Ltac')].index)\n",
    "\n",
    "# Get all tactics, including those combined with ;\n",
    "tactic_invocations = no_ltac.str.split(';').explode().str.strip()\n",
    "# Remove subgoals handled with [ | ] syntax, as this is so rare it is not worth handling specially.\n",
    "no_brackets = tactic_invocations.drop(index=tactic_invocations[tactic_invocations.str.startswith('[')].index)\n",
    "\n",
    "tactics = no_brackets.str.split(r'[ .()=]', n=1, expand=True)[0]\n",
    "\n",
    "tactics"
   ]
  },
  {
   "cell_type": "code",
   "execution_count": 24,
   "metadata": {},
   "outputs": [
    {
     "data": {
      "image/png": "[encoded data removed]",
      "text/plain": [
       "<Figure size 1081.75x1000 with 2 Axes>"
      ]
     },
     "metadata": {},
     "output_type": "display_data"
    }
   ],
   "source": [
    "docs = {\n",
    "    ' '.join(proof_df.loc[idx[:, :, 'orig', :], :].tactic.to_list()),\n",
    "    ' '.join(proof_df.loc[idx[:, :, 'pred', :], :].tactic.to_list()),\n",
    "}\n",
    "vocab = tactics[idx[:, :, 'orig', :]].value_counts()[:50].index\n",
    "\n",
    "count_vectors = CountVectorizer(vocabulary=vocab, lowercase=False).fit_transform(raw_documents=docs).todense()\n",
    "counts = pd.DataFrame(np.vstack((vocab, count_vectors)).T, columns=['tactic', 'orig', 'pred'])\n",
    "counts['total'] = counts['orig'] + counts['pred']\n",
    "counts = counts.sort_values(by='orig', ascending=False).reset_index()\n",
    "counts = counts.drop(counts[counts.total == 0].index)\n",
    "\n",
    "proportions = counts.copy()\n",
    "proportions['orig'] /= proportions['orig'].sum()\n",
    "proportions['pred'] /= proportions['pred'].sum()\n",
    "\n",
    "melted_prop = proportions.melt(id_vars='tactic', value_vars=['orig', 'pred'], var_name='source', value_name='proportion')\n",
    "\n",
    "sns.catplot(data=melted_prop, y='tactic', x='proportion', col='source', hue='source', kind='bar', height=10, aspect=0.5, sharey=False);"
   ]
  },
  {
   "cell_type": "code",
   "execution_count": 25,
   "metadata": {},
   "outputs": [
    {
     "data": {
      "image/png": "[encoded data removed]",
      "text/plain": [
       "<Figure size 511.111x1000 with 1 Axes>"
      ]
     },
     "metadata": {},
     "output_type": "display_data"
    }
   ],
   "source": [
    "sns.catplot(data=melted_prop[melted_prop['source'] == 'pred'].sort_values('proportion', ascending=False), \n",
    "            y='tactic', x='proportion', color='orange', kind='bar', height=10, aspect=0.5, sharey=False);"
   ]
  }
 ],
 "metadata": {
  "kernelspec": {
   "display_name": "base",
   "language": "python",
   "name": "python3"
  },
  "language_info": {
   "codemirror_mode": {
    "name": "ipython",
    "version": 3
   },
   "file_extension": ".py",
   "mimetype": "text/x-python",
   "name": "python",
   "nbconvert_exporter": "python",
   "pygments_lexer": "ipython3",
   "version": "3.12.1"
  }
 },
 "nbformat": 4,
 "nbformat_minor": 2
}
