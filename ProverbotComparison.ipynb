{
 "cells": [
  {
   "cell_type": "markdown",
   "metadata": {},
   "source": [
    "## Setup"
   ]
  },
  {
   "cell_type": "code",
   "execution_count": 1,
   "metadata": {},
   "outputs": [],
   "source": [
    "# Web Scraping\n",
    "import requests\n",
    "import bs4\n",
    "from urllib.parse import urljoin\n",
    "\n",
    "# Data Manipulation\n",
    "import numpy as np\n",
    "import pandas as pd\n",
    "\n",
    "from pandas import IndexSlice as idx\n",
    "\n",
    "from sklearn.feature_extraction.text import CountVectorizer, TfidfVectorizer\n",
    "\n",
    "# Data Visualization\n",
    "import matplotlib.pyplot as plt\n",
    "import seaborn as sns"
   ]
  },
  {
   "cell_type": "markdown",
   "metadata": {},
   "source": [
    "## Data"
   ]
  },
  {
   "cell_type": "code",
   "execution_count": 2,
   "metadata": {},
   "outputs": [],
   "source": [
    "# Current latest report URL\n",
    "REPORT_URL = 'https://proverbot9001.ucsd.edu/reports/2024-01-26T19d27d24-0700+a13e20f06b2535d9abd20853749b0709b280e054/'\n",
    "\n",
    "# Get the report information and load into BS4\n",
    "r = requests.get(REPORT_URL)\n",
    "index_soup = bs4.BeautifulSoup(r.content)"
   ]
  },
  {
   "cell_type": "code",
   "execution_count": 3,
   "metadata": {},
   "outputs": [],
   "source": [
    "# Grab each row in the table (without the header or the total)\n",
    "table_rows = index_soup.table.find_all('tr')[1:-1]\n",
    "\n",
    "# Associate each filename with a URL for its data\n",
    "file_urls = [row.a['href'] for row in table_rows]\n",
    "\n",
    "# Turn each link into a soup\n",
    "file_soups = [(href.removesuffix('.html'), bs4.BeautifulSoup(requests.get(urljoin(REPORT_URL, href)).content)) for href in file_urls]"
   ]
  },
  {
   "cell_type": "code",
   "execution_count": 4,
   "metadata": {},
   "outputs": [],
   "source": [
    "def process_file_soup(fname: str, soup: bs4.BeautifulSoup):\n",
    "    # Grab all theorems and proofs\n",
    "    relevant_elems = soup.select('button.collapsible, div.region')\n",
    "\n",
    "    # Separate into alternating theorems and proofs, and check that each theorem (button) is followed by a theorem (div)\n",
    "    thm_elems = relevant_elems[::2]\n",
    "    prf_elems = relevant_elems[1::2]\n",
    "    assert(all(x.name == 'button' for x in thm_elems))\n",
    "    assert(all(x.name == 'div' for x in prf_elems))\n",
    "\n",
    "    # Get all theorems, along with whether Proverbot succeeded\n",
    "    theorems = [(thm.code.text, thm['class'][1]) for thm in thm_elems]\n",
    "    theorems_df = pd.DataFrame(data=theorems, columns=['theorem', 'result'])\n",
    "\n",
    "    # Get all proofs, and separate into the predicted proof and the original proof\n",
    "    pred_orig_proofs = [(prf.find(class_='predicted').find_all('span'), prf.find(class_='original').find_all('span')) for prf in prf_elems]\n",
    "\n",
    "    # For each such proof, separate out only the text and subgoals\n",
    "    proofs = [([(x.text, x['data-subgoals']) for x in pred], [(x.text, x['data-subgoals']) for x in orig]) for pred, orig in pred_orig_proofs]\n",
    "\n",
    "    # Create a DataFrame to hold these\n",
    "    proofs_df = pd.DataFrame(proofs, columns=['pred', 'orig'])\n",
    "\n",
    "    # Melt and reset to get theorem index and source as columns\n",
    "    proofs_df = pd.melt(proofs_df, value_vars=['pred', 'orig'], var_name='source', ignore_index=False).reset_index(names='theorem')\n",
    "\n",
    "    # Explode to turn the lists into rows, groupby cumulative count to give line numbers\n",
    "    proofs_df = proofs_df.explode('value').reset_index(names='line')\n",
    "    proofs_df['line'] = proofs_df.groupby('line').cumcount()\n",
    "\n",
    "    # Combine theorem, source, and line number into our final multi-index\n",
    "    proofs_df = proofs_df.set_index(['theorem', 'source', 'line']).sort_index()\n",
    "\n",
    "    # Separate our combined value column into tactics and subgoals, then delete the redundant column\n",
    "    proofs_df[['tactic', 'subgoals']] = pd.DataFrame(proofs_df['value'].to_list(), index=proofs_df.index)\n",
    "    del proofs_df['value']\n",
    "\n",
    "    # Return both with fname for easy unzipping\n",
    "    return [(fname, theorems_df), (fname, proofs_df)]"
   ]
  },
  {
   "cell_type": "code",
   "execution_count": 5,
   "metadata": {},
   "outputs": [],
   "source": [
    "full_data = [process_file_soup(fname, soup) for fname, soup in file_soups]\n",
    "\n",
    "# Unzip our data (organized by proofs vs theorems instead of by filename primarily)\n",
    "unzip_theorems, unzip_proofs = zip(*full_data)\n",
    "\n",
    "theorem_df = pd.concat(dict(unzip_theorems))\n",
    "theorem_df.index = theorem_df.index.set_names(['fname', 'index'])\n",
    "\n",
    "# We also remove skipped theorems, as Proverbot pretends they do not exist\n",
    "raw_proof_df = pd.concat(dict(unzip_proofs)).loc[theorem_df['result'] != 'skipped']\n",
    "raw_proof_df.index = raw_proof_df.index.set_names({None: 'fname'})"
   ]
  },
  {
   "cell_type": "code",
   "execution_count": 6,
   "metadata": {},
   "outputs": [
    {
     "data": {
      "text/html": [
       "<div>\n",
       "<style scoped>\n",
       "    .dataframe tbody tr th:only-of-type {\n",
       "        vertical-align: middle;\n",
       "    }\n",
       "\n",
       "    .dataframe tbody tr th {\n",
       "        vertical-align: top;\n",
       "    }\n",
       "\n",
       "    .dataframe thead th {\n",
       "        text-align: right;\n",
       "    }\n",
       "</style>\n",
       "<table border=\"1\" class=\"dataframe\">\n",
       "  <thead>\n",
       "    <tr style=\"text-align: right;\">\n",
       "      <th></th>\n",
       "      <th></th>\n",
       "      <th>theorem</th>\n",
       "      <th>result</th>\n",
       "    </tr>\n",
       "    <tr>\n",
       "      <th>fname</th>\n",
       "      <th>index</th>\n",
       "      <th></th>\n",
       "      <th></th>\n",
       "    </tr>\n",
       "  </thead>\n",
       "  <tbody>\n",
       "    <tr>\n",
       "      <th rowspan=\"5\" valign=\"top\">Globalenvs</th>\n",
       "      <th>0</th>\n",
       "      <td>(** Auxiliary function for initialization of g...</td>\n",
       "      <td>okay</td>\n",
       "    </tr>\n",
       "    <tr>\n",
       "      <th>1</th>\n",
       "      <td>Theorem shift_symbol_address:\\n  forall ge id ...</td>\n",
       "      <td>good</td>\n",
       "    </tr>\n",
       "    <tr>\n",
       "      <th>2</th>\n",
       "      <td>Theorem shift_symbol_address_32:\\n  forall ge ...</td>\n",
       "      <td>good</td>\n",
       "    </tr>\n",
       "    <tr>\n",
       "      <th>3</th>\n",
       "      <td>Theorem shift_symbol_address_64:\\n  forall ge ...</td>\n",
       "      <td>good</td>\n",
       "    </tr>\n",
       "    <tr>\n",
       "      <th>4</th>\n",
       "      <td>Next Obligation.</td>\n",
       "      <td>okay</td>\n",
       "    </tr>\n",
       "    <tr>\n",
       "      <th>...</th>\n",
       "      <th>...</th>\n",
       "      <td>...</td>\n",
       "      <td>...</td>\n",
       "    </tr>\n",
       "    <tr>\n",
       "      <th rowspan=\"3\" valign=\"top\">Mult_error</th>\n",
       "      <th>4</th>\n",
       "      <td>Lemma F2R_ge: forall (y:float beta),\\n   (F2R ...</td>\n",
       "      <td>okay</td>\n",
       "    </tr>\n",
       "    <tr>\n",
       "      <th>5</th>\n",
       "      <td>Theorem mult_error_FLT_ge_bpow :\\n  forall x y...</td>\n",
       "      <td>okay</td>\n",
       "    </tr>\n",
       "    <tr>\n",
       "      <th>6</th>\n",
       "      <td>Lemma mult_bpow_exact_FLT :\\n  forall x e,\\n  ...</td>\n",
       "      <td>okay</td>\n",
       "    </tr>\n",
       "    <tr>\n",
       "      <th rowspan=\"2\" valign=\"top\">Wfsimpl</th>\n",
       "      <th>0</th>\n",
       "      <td>Theorem unroll_Fix:\\n  forall x, Fix x = F (fu...</td>\n",
       "      <td>bad</td>\n",
       "    </tr>\n",
       "    <tr>\n",
       "      <th>1</th>\n",
       "      <td>Theorem unroll_Fixm:\\n  forall x, Fixm x = F (...</td>\n",
       "      <td>good</td>\n",
       "    </tr>\n",
       "  </tbody>\n",
       "</table>\n",
       "<p>516 rows × 2 columns</p>\n",
       "</div>"
      ],
      "text/plain": [
       "                                                            theorem result\n",
       "fname      index                                                          \n",
       "Globalenvs 0      (** Auxiliary function for initialization of g...   okay\n",
       "           1      Theorem shift_symbol_address:\\n  forall ge id ...   good\n",
       "           2      Theorem shift_symbol_address_32:\\n  forall ge ...   good\n",
       "           3      Theorem shift_symbol_address_64:\\n  forall ge ...   good\n",
       "           4                                       Next Obligation.   okay\n",
       "...                                                             ...    ...\n",
       "Mult_error 4      Lemma F2R_ge: forall (y:float beta),\\n   (F2R ...   okay\n",
       "           5      Theorem mult_error_FLT_ge_bpow :\\n  forall x y...   okay\n",
       "           6      Lemma mult_bpow_exact_FLT :\\n  forall x e,\\n  ...   okay\n",
       "Wfsimpl    0      Theorem unroll_Fix:\\n  forall x, Fix x = F (fu...    bad\n",
       "           1      Theorem unroll_Fixm:\\n  forall x, Fixm x = F (...   good\n",
       "\n",
       "[516 rows x 2 columns]"
      ]
     },
     "execution_count": 6,
     "metadata": {},
     "output_type": "execute_result"
    }
   ],
   "source": [
    "theorem_df"
   ]
  },
  {
   "cell_type": "code",
   "execution_count": 7,
   "metadata": {},
   "outputs": [
    {
     "data": {
      "text/html": [
       "<div>\n",
       "<style scoped>\n",
       "    .dataframe tbody tr th:only-of-type {\n",
       "        vertical-align: middle;\n",
       "    }\n",
       "\n",
       "    .dataframe tbody tr th {\n",
       "        vertical-align: top;\n",
       "    }\n",
       "\n",
       "    .dataframe thead th {\n",
       "        text-align: right;\n",
       "    }\n",
       "</style>\n",
       "<table border=\"1\" class=\"dataframe\">\n",
       "  <thead>\n",
       "    <tr style=\"text-align: right;\">\n",
       "      <th></th>\n",
       "      <th></th>\n",
       "      <th></th>\n",
       "      <th></th>\n",
       "      <th>tactic</th>\n",
       "      <th>subgoals</th>\n",
       "    </tr>\n",
       "    <tr>\n",
       "      <th>fname</th>\n",
       "      <th>theorem</th>\n",
       "      <th>source</th>\n",
       "      <th>line</th>\n",
       "      <th></th>\n",
       "      <th></th>\n",
       "    </tr>\n",
       "  </thead>\n",
       "  <tbody>\n",
       "    <tr>\n",
       "      <th rowspan=\"5\" valign=\"top\">Globalenvs</th>\n",
       "      <th rowspan=\"5\" valign=\"top\">0</th>\n",
       "      <th rowspan=\"5\" valign=\"top\">orig</th>\n",
       "      <th>0</th>\n",
       "      <td>Proof.</td>\n",
       "      <td>((\"forall (m : Mem.mem) (b : block) (p n : Z) ...</td>\n",
       "    </tr>\n",
       "    <tr>\n",
       "      <th>1</th>\n",
       "      <td>intros.</td>\n",
       "      <td>((\"forall (m : Mem.mem) (b : block) (p n : Z) ...</td>\n",
       "    </tr>\n",
       "    <tr>\n",
       "      <th>2</th>\n",
       "      <td>red.</td>\n",
       "      <td>((\"Zwf Z0 (Z.sub n (Zpos xH)) n\", (\"teq0 : eq ...</td>\n",
       "    </tr>\n",
       "    <tr>\n",
       "      <th>3</th>\n",
       "      <td>omega.</td>\n",
       "      <td>((\"and (Z.le Z0 n) (Z.lt (Z.sub n (Zpos xH)) n...</td>\n",
       "    </tr>\n",
       "    <tr>\n",
       "      <th>4</th>\n",
       "      <td>apply Zwf_well_founded.</td>\n",
       "      <td>((\"well_founded (Zwf Z0)\", (\"\")))</td>\n",
       "    </tr>\n",
       "    <tr>\n",
       "      <th>...</th>\n",
       "      <th>...</th>\n",
       "      <th>...</th>\n",
       "      <th>...</th>\n",
       "      <td>...</td>\n",
       "      <td>...</td>\n",
       "    </tr>\n",
       "    <tr>\n",
       "      <th rowspan=\"5\" valign=\"top\">Wfsimpl</th>\n",
       "      <th rowspan=\"5\" valign=\"top\">1</th>\n",
       "      <th>orig</th>\n",
       "      <th>9</th>\n",
       "      <td>Qed.</td>\n",
       "      <td>()</td>\n",
       "    </tr>\n",
       "    <tr>\n",
       "      <th rowspan=\"4\" valign=\"top\">pred</th>\n",
       "      <th>0</th>\n",
       "      <td>Proof.</td>\n",
       "      <td>((\"forall x : A,\\neq (Fixm x)\\n  (F (fun (y : ...</td>\n",
       "    </tr>\n",
       "    <tr>\n",
       "      <th>1</th>\n",
       "      <td>intros.</td>\n",
       "      <td>((\"forall x : A,\\neq (Fixm x)\\n  (F (fun (y : ...</td>\n",
       "    </tr>\n",
       "    <tr>\n",
       "      <th>2</th>\n",
       "      <td>apply unroll_Fix.</td>\n",
       "      <td>((\"eq (Fixm x)\\n  (F (fun (y : A) (_ : lt (mea...</td>\n",
       "    </tr>\n",
       "    <tr>\n",
       "      <th>3</th>\n",
       "      <td>Qed.</td>\n",
       "      <td>()</td>\n",
       "    </tr>\n",
       "  </tbody>\n",
       "</table>\n",
       "<p>9604 rows × 2 columns</p>\n",
       "</div>"
      ],
      "text/plain": [
       "                                                 tactic  \\\n",
       "fname      theorem source line                            \n",
       "Globalenvs 0       orig   0                      Proof.   \n",
       "                          1                     intros.   \n",
       "                          2                        red.   \n",
       "                          3                      omega.   \n",
       "                          4     apply Zwf_well_founded.   \n",
       "...                                                 ...   \n",
       "Wfsimpl    1       orig   9                        Qed.   \n",
       "                   pred   0                      Proof.   \n",
       "                          1                     intros.   \n",
       "                          2           apply unroll_Fix.   \n",
       "                          3                        Qed.   \n",
       "\n",
       "                                                                         subgoals  \n",
       "fname      theorem source line                                                     \n",
       "Globalenvs 0       orig   0     ((\"forall (m : Mem.mem) (b : block) (p n : Z) ...  \n",
       "                          1     ((\"forall (m : Mem.mem) (b : block) (p n : Z) ...  \n",
       "                          2     ((\"Zwf Z0 (Z.sub n (Zpos xH)) n\", (\"teq0 : eq ...  \n",
       "                          3     ((\"and (Z.le Z0 n) (Z.lt (Z.sub n (Zpos xH)) n...  \n",
       "                          4                     ((\"well_founded (Zwf Z0)\", (\"\")))  \n",
       "...                                                                           ...  \n",
       "Wfsimpl    1       orig   9                                                    ()  \n",
       "                   pred   0     ((\"forall x : A,\\neq (Fixm x)\\n  (F (fun (y : ...  \n",
       "                          1     ((\"forall x : A,\\neq (Fixm x)\\n  (F (fun (y : ...  \n",
       "                          2     ((\"eq (Fixm x)\\n  (F (fun (y : A) (_ : lt (mea...  \n",
       "                          3                                                    ()  \n",
       "\n",
       "[9604 rows x 2 columns]"
      ]
     },
     "execution_count": 7,
     "metadata": {},
     "output_type": "execute_result"
    }
   ],
   "source": [
    "raw_proof_df"
   ]
  },
  {
   "cell_type": "markdown",
   "metadata": {},
   "source": [
    "We have two `DataFrame`s that describe the data here. The `theorem_df` frame contains every theorem in the used CompCert dataset, along with what file it is in, its index in the file, and whether or not Proverbot9001 succeeded. The `raw_proof_df` frame contains every line from every proof, both the original and the predicted proofs, along with the proof state in the form of subgoals. These are both indexed by filename and theorem number, and the proof frame is also indexed by whether it is original or predicted, and what line in the proof it is. \n",
    "\n",
    "These frames are multi-indexed in order to enforce uniqueness of index and avoid large amounts of \"and\" conditions in filters. Sometimes this requires advanced indexing; for example:"
   ]
  },
  {
   "cell_type": "code",
   "execution_count": 8,
   "metadata": {},
   "outputs": [
    {
     "data": {
      "text/html": [
       "<div>\n",
       "<style scoped>\n",
       "    .dataframe tbody tr th:only-of-type {\n",
       "        vertical-align: middle;\n",
       "    }\n",
       "\n",
       "    .dataframe tbody tr th {\n",
       "        vertical-align: top;\n",
       "    }\n",
       "\n",
       "    .dataframe thead th {\n",
       "        text-align: right;\n",
       "    }\n",
       "</style>\n",
       "<table border=\"1\" class=\"dataframe\">\n",
       "  <thead>\n",
       "    <tr style=\"text-align: right;\">\n",
       "      <th></th>\n",
       "      <th></th>\n",
       "      <th>theorem</th>\n",
       "      <th>result</th>\n",
       "    </tr>\n",
       "    <tr>\n",
       "      <th>fname</th>\n",
       "      <th>index</th>\n",
       "      <th></th>\n",
       "      <th></th>\n",
       "    </tr>\n",
       "  </thead>\n",
       "  <tbody>\n",
       "    <tr>\n",
       "      <th rowspan=\"11\" valign=\"top\">Globalenvs</th>\n",
       "      <th>0</th>\n",
       "      <td>(** Auxiliary function for initialization of g...</td>\n",
       "      <td>okay</td>\n",
       "    </tr>\n",
       "    <tr>\n",
       "      <th>1</th>\n",
       "      <td>Theorem shift_symbol_address:\\n  forall ge id ...</td>\n",
       "      <td>good</td>\n",
       "    </tr>\n",
       "    <tr>\n",
       "      <th>2</th>\n",
       "      <td>Theorem shift_symbol_address_32:\\n  forall ge ...</td>\n",
       "      <td>good</td>\n",
       "    </tr>\n",
       "    <tr>\n",
       "      <th>3</th>\n",
       "      <td>Theorem shift_symbol_address_64:\\n  forall ge ...</td>\n",
       "      <td>good</td>\n",
       "    </tr>\n",
       "    <tr>\n",
       "      <th>4</th>\n",
       "      <td>Next Obligation.</td>\n",
       "      <td>okay</td>\n",
       "    </tr>\n",
       "    <tr>\n",
       "      <th>...</th>\n",
       "      <td>...</td>\n",
       "      <td>...</td>\n",
       "    </tr>\n",
       "    <tr>\n",
       "      <th>107</th>\n",
       "      <td>Theorem find_funct_ptr_transf:\\n  forall b f,\\...</td>\n",
       "      <td>okay</td>\n",
       "    </tr>\n",
       "    <tr>\n",
       "      <th>108</th>\n",
       "      <td>Theorem find_funct_transf:\\n  forall v f,\\n  f...</td>\n",
       "      <td>okay</td>\n",
       "    </tr>\n",
       "    <tr>\n",
       "      <th>109</th>\n",
       "      <td>Theorem find_symbol_transf:\\n  forall (s : ide...</td>\n",
       "      <td>okay</td>\n",
       "    </tr>\n",
       "    <tr>\n",
       "      <th>110</th>\n",
       "      <td>Theorem senv_transf:\\n  Senv.equiv (to_senv (g...</td>\n",
       "      <td>bad</td>\n",
       "    </tr>\n",
       "    <tr>\n",
       "      <th>111</th>\n",
       "      <td>Theorem init_mem_transf:\\n  forall m, init_mem...</td>\n",
       "      <td>okay</td>\n",
       "    </tr>\n",
       "  </tbody>\n",
       "</table>\n",
       "<p>112 rows × 2 columns</p>\n",
       "</div>"
      ],
      "text/plain": [
       "                                                            theorem result\n",
       "fname      index                                                          \n",
       "Globalenvs 0      (** Auxiliary function for initialization of g...   okay\n",
       "           1      Theorem shift_symbol_address:\\n  forall ge id ...   good\n",
       "           2      Theorem shift_symbol_address_32:\\n  forall ge ...   good\n",
       "           3      Theorem shift_symbol_address_64:\\n  forall ge ...   good\n",
       "           4                                       Next Obligation.   okay\n",
       "...                                                             ...    ...\n",
       "           107    Theorem find_funct_ptr_transf:\\n  forall b f,\\...   okay\n",
       "           108    Theorem find_funct_transf:\\n  forall v f,\\n  f...   okay\n",
       "           109    Theorem find_symbol_transf:\\n  forall (s : ide...   okay\n",
       "           110    Theorem senv_transf:\\n  Senv.equiv (to_senv (g...    bad\n",
       "           111    Theorem init_mem_transf:\\n  forall m, init_mem...   okay\n",
       "\n",
       "[112 rows x 2 columns]"
      ]
     },
     "execution_count": 8,
     "metadata": {},
     "output_type": "execute_result"
    }
   ],
   "source": [
    "# Show all theorems in the 'Globalenvs' file\n",
    "theorem_df.loc[idx['Globalenvs', :], :]"
   ]
  },
  {
   "cell_type": "code",
   "execution_count": 9,
   "metadata": {},
   "outputs": [
    {
     "data": {
      "text/html": [
       "<div>\n",
       "<style scoped>\n",
       "    .dataframe tbody tr th:only-of-type {\n",
       "        vertical-align: middle;\n",
       "    }\n",
       "\n",
       "    .dataframe tbody tr th {\n",
       "        vertical-align: top;\n",
       "    }\n",
       "\n",
       "    .dataframe thead th {\n",
       "        text-align: right;\n",
       "    }\n",
       "</style>\n",
       "<table border=\"1\" class=\"dataframe\">\n",
       "  <thead>\n",
       "    <tr style=\"text-align: right;\">\n",
       "      <th></th>\n",
       "      <th></th>\n",
       "      <th></th>\n",
       "      <th></th>\n",
       "      <th>tactic</th>\n",
       "      <th>subgoals</th>\n",
       "    </tr>\n",
       "    <tr>\n",
       "      <th>fname</th>\n",
       "      <th>theorem</th>\n",
       "      <th>source</th>\n",
       "      <th>line</th>\n",
       "      <th></th>\n",
       "      <th></th>\n",
       "    </tr>\n",
       "  </thead>\n",
       "  <tbody>\n",
       "    <tr>\n",
       "      <th rowspan=\"5\" valign=\"top\">Globalenvs</th>\n",
       "      <th rowspan=\"5\" valign=\"top\">1</th>\n",
       "      <th rowspan=\"5\" valign=\"top\">pred</th>\n",
       "      <th>0</th>\n",
       "      <td>Proof.</td>\n",
       "      <td>((\"forall (ge : t) (id : ident) (ofs delta : P...</td>\n",
       "    </tr>\n",
       "    <tr>\n",
       "      <th>1</th>\n",
       "      <td>intros.</td>\n",
       "      <td>((\"forall (ge : t) (id : ident) (ofs delta : P...</td>\n",
       "    </tr>\n",
       "    <tr>\n",
       "      <th>2</th>\n",
       "      <td>unfold symbol_address.</td>\n",
       "      <td>((\"eq (symbol_address ge id (Ptrofs.add ofs de...</td>\n",
       "    </tr>\n",
       "    <tr>\n",
       "      <th>3</th>\n",
       "      <td>unfold find_symbol.</td>\n",
       "      <td>((\"eq\\n  match find_symbol ge id with\\n  | Som...</td>\n",
       "    </tr>\n",
       "    <tr>\n",
       "      <th>4</th>\n",
       "      <td>destruct ge.</td>\n",
       "      <td>((\"eq\\n  match\\n    (let\\n       (find_symbol,...</td>\n",
       "    </tr>\n",
       "    <tr>\n",
       "      <th>...</th>\n",
       "      <th>...</th>\n",
       "      <th>...</th>\n",
       "      <th>...</th>\n",
       "      <td>...</td>\n",
       "      <td>...</td>\n",
       "    </tr>\n",
       "    <tr>\n",
       "      <th>Validator_complete</th>\n",
       "      <th>2</th>\n",
       "      <th>pred</th>\n",
       "      <th>7</th>\n",
       "      <td>Qed.</td>\n",
       "      <td>()</td>\n",
       "    </tr>\n",
       "    <tr>\n",
       "      <th rowspan=\"4\" valign=\"top\">Wfsimpl</th>\n",
       "      <th rowspan=\"4\" valign=\"top\">1</th>\n",
       "      <th rowspan=\"4\" valign=\"top\">pred</th>\n",
       "      <th>0</th>\n",
       "      <td>Proof.</td>\n",
       "      <td>((\"forall x : A,\\neq (Fixm x)\\n  (F (fun (y : ...</td>\n",
       "    </tr>\n",
       "    <tr>\n",
       "      <th>1</th>\n",
       "      <td>intros.</td>\n",
       "      <td>((\"forall x : A,\\neq (Fixm x)\\n  (F (fun (y : ...</td>\n",
       "    </tr>\n",
       "    <tr>\n",
       "      <th>2</th>\n",
       "      <td>apply unroll_Fix.</td>\n",
       "      <td>((\"eq (Fixm x)\\n  (F (fun (y : A) (_ : lt (mea...</td>\n",
       "    </tr>\n",
       "    <tr>\n",
       "      <th>3</th>\n",
       "      <td>Qed.</td>\n",
       "      <td>()</td>\n",
       "    </tr>\n",
       "  </tbody>\n",
       "</table>\n",
       "<p>1260 rows × 2 columns</p>\n",
       "</div>"
      ],
      "text/plain": [
       "                                                        tactic  \\\n",
       "fname              theorem source line                           \n",
       "Globalenvs         1       pred   0                     Proof.   \n",
       "                                  1                    intros.   \n",
       "                                  2     unfold symbol_address.   \n",
       "                                  3        unfold find_symbol.   \n",
       "                                  4               destruct ge.   \n",
       "...                                                        ...   \n",
       "Validator_complete 2       pred   7                       Qed.   \n",
       "Wfsimpl            1       pred   0                     Proof.   \n",
       "                                  1                    intros.   \n",
       "                                  2          apply unroll_Fix.   \n",
       "                                  3                       Qed.   \n",
       "\n",
       "                                                                                 subgoals  \n",
       "fname              theorem source line                                                     \n",
       "Globalenvs         1       pred   0     ((\"forall (ge : t) (id : ident) (ofs delta : P...  \n",
       "                                  1     ((\"forall (ge : t) (id : ident) (ofs delta : P...  \n",
       "                                  2     ((\"eq (symbol_address ge id (Ptrofs.add ofs de...  \n",
       "                                  3     ((\"eq\\n  match find_symbol ge id with\\n  | Som...  \n",
       "                                  4     ((\"eq\\n  match\\n    (let\\n       (find_symbol,...  \n",
       "...                                                                                   ...  \n",
       "Validator_complete 2       pred   7                                                    ()  \n",
       "Wfsimpl            1       pred   0     ((\"forall x : A,\\neq (Fixm x)\\n  (F (fun (y : ...  \n",
       "                                  1     ((\"forall x : A,\\neq (Fixm x)\\n  (F (fun (y : ...  \n",
       "                                  2     ((\"eq (Fixm x)\\n  (F (fun (y : A) (_ : lt (mea...  \n",
       "                                  3                                                    ()  \n",
       "\n",
       "[1260 rows x 2 columns]"
      ]
     },
     "execution_count": 9,
     "metadata": {},
     "output_type": "execute_result"
    }
   ],
   "source": [
    "# Show all predicted proofs that Proverbot did not fail/give up on\n",
    "raw_proof_df.loc[theorem_df['result'] == 'good'].loc[idx[:, :, 'pred', :], :]"
   ]
  },
  {
   "cell_type": "markdown",
   "metadata": {},
   "source": [
    "### Data Cleaning"
   ]
  },
  {
   "cell_type": "markdown",
   "metadata": {},
   "source": [
    "There are some proofs for which there is no predicted output at all. These show up as NaNs, so we remove them to allow more operations on the `DataFrame`."
   ]
  },
  {
   "cell_type": "code",
   "execution_count": 10,
   "metadata": {},
   "outputs": [
    {
     "data": {
      "text/html": [
       "<div>\n",
       "<style scoped>\n",
       "    .dataframe tbody tr th:only-of-type {\n",
       "        vertical-align: middle;\n",
       "    }\n",
       "\n",
       "    .dataframe tbody tr th {\n",
       "        vertical-align: top;\n",
       "    }\n",
       "\n",
       "    .dataframe thead th {\n",
       "        text-align: right;\n",
       "    }\n",
       "</style>\n",
       "<table border=\"1\" class=\"dataframe\">\n",
       "  <thead>\n",
       "    <tr style=\"text-align: right;\">\n",
       "      <th></th>\n",
       "      <th></th>\n",
       "      <th></th>\n",
       "      <th></th>\n",
       "      <th>tactic</th>\n",
       "      <th>subgoals</th>\n",
       "    </tr>\n",
       "    <tr>\n",
       "      <th>fname</th>\n",
       "      <th>theorem</th>\n",
       "      <th>source</th>\n",
       "      <th>line</th>\n",
       "      <th></th>\n",
       "      <th></th>\n",
       "    </tr>\n",
       "  </thead>\n",
       "  <tbody>\n",
       "    <tr>\n",
       "      <th>SelectOpproof</th>\n",
       "      <th>5</th>\n",
       "      <th>pred</th>\n",
       "      <th>0</th>\n",
       "      <td>NaN</td>\n",
       "      <td>None</td>\n",
       "    </tr>\n",
       "    <tr>\n",
       "      <th rowspan=\"3\" valign=\"top\">Cop</th>\n",
       "      <th>10</th>\n",
       "      <th>pred</th>\n",
       "      <th>0</th>\n",
       "      <td>NaN</td>\n",
       "      <td>None</td>\n",
       "    </tr>\n",
       "    <tr>\n",
       "      <th>11</th>\n",
       "      <th>pred</th>\n",
       "      <th>0</th>\n",
       "      <td>NaN</td>\n",
       "      <td>None</td>\n",
       "    </tr>\n",
       "    <tr>\n",
       "      <th>14</th>\n",
       "      <th>pred</th>\n",
       "      <th>0</th>\n",
       "      <td>NaN</td>\n",
       "      <td>None</td>\n",
       "    </tr>\n",
       "    <tr>\n",
       "      <th rowspan=\"2\" valign=\"top\">RTL</th>\n",
       "      <th>5</th>\n",
       "      <th>pred</th>\n",
       "      <th>0</th>\n",
       "      <td>NaN</td>\n",
       "      <td>None</td>\n",
       "    </tr>\n",
       "    <tr>\n",
       "      <th>6</th>\n",
       "      <th>pred</th>\n",
       "      <th>0</th>\n",
       "      <td>NaN</td>\n",
       "      <td>None</td>\n",
       "    </tr>\n",
       "  </tbody>\n",
       "</table>\n",
       "</div>"
      ],
      "text/plain": [
       "                                  tactic subgoals\n",
       "fname         theorem source line                \n",
       "SelectOpproof 5       pred   0       NaN     None\n",
       "Cop           10      pred   0       NaN     None\n",
       "              11      pred   0       NaN     None\n",
       "              14      pred   0       NaN     None\n",
       "RTL           5       pred   0       NaN     None\n",
       "              6       pred   0       NaN     None"
      ]
     },
     "execution_count": 10,
     "metadata": {},
     "output_type": "execute_result"
    }
   ],
   "source": [
    "raw_proof_df.loc[raw_proof_df['tactic'].isna()]"
   ]
  },
  {
   "cell_type": "code",
   "execution_count": 11,
   "metadata": {},
   "outputs": [],
   "source": [
    "# With NAs removed, we can now interpret this DataFrame as all strings\n",
    "str_proof_df = raw_proof_df.dropna(how='any').astype(str)"
   ]
  },
  {
   "cell_type": "markdown",
   "metadata": {},
   "source": [
    "We will now remove the first and last line of each proof, since it contains no interesting information. This will also incidentally remove all `Proof. Admitted.` \"proofs\" created when Proverbot failed. \n",
    "\n",
    "There are some original proofs that do not start with some version of the `Proof` command. These are primarily due to the `Next Obligation.` command, so we will make sure not to remove the first line of these proofs."
   ]
  },
  {
   "cell_type": "code",
   "execution_count": 12,
   "metadata": {},
   "outputs": [
    {
     "data": {
      "text/html": [
       "<div>\n",
       "<style scoped>\n",
       "    .dataframe tbody tr th:only-of-type {\n",
       "        vertical-align: middle;\n",
       "    }\n",
       "\n",
       "    .dataframe tbody tr th {\n",
       "        vertical-align: top;\n",
       "    }\n",
       "\n",
       "    .dataframe thead th {\n",
       "        text-align: right;\n",
       "    }\n",
       "</style>\n",
       "<table border=\"1\" class=\"dataframe\">\n",
       "  <thead>\n",
       "    <tr style=\"text-align: right;\">\n",
       "      <th></th>\n",
       "      <th></th>\n",
       "      <th></th>\n",
       "      <th></th>\n",
       "      <th>tactic</th>\n",
       "      <th>subgoals</th>\n",
       "    </tr>\n",
       "    <tr>\n",
       "      <th>fname</th>\n",
       "      <th>theorem</th>\n",
       "      <th>source</th>\n",
       "      <th>line</th>\n",
       "      <th></th>\n",
       "      <th></th>\n",
       "    </tr>\n",
       "  </thead>\n",
       "  <tbody>\n",
       "    <tr>\n",
       "      <th rowspan=\"6\" valign=\"top\">Globalenvs</th>\n",
       "      <th>4</th>\n",
       "      <th>orig</th>\n",
       "      <th>0</th>\n",
       "      <td>destruct ge; simpl in *.</td>\n",
       "      <td>((\"Plt b (Pos.succ (genv_next ge))\", (\"H : eq\\...</td>\n",
       "    </tr>\n",
       "    <tr>\n",
       "      <th>5</th>\n",
       "      <th>orig</th>\n",
       "      <th>0</th>\n",
       "      <td>destruct ge; simpl in *.</td>\n",
       "      <td>((\"Plt b (Pos.succ (genv_next ge))\", (\"H : eq\\...</td>\n",
       "    </tr>\n",
       "    <tr>\n",
       "      <th>6</th>\n",
       "      <th>orig</th>\n",
       "      <th>0</th>\n",
       "      <td>destruct ge; simpl in *.</td>\n",
       "      <td>((\"eq id1 id2\", (\"H0 : eq\\n  (PTree.get id2\\n ...</td>\n",
       "    </tr>\n",
       "    <tr>\n",
       "      <th>8</th>\n",
       "      <th>orig</th>\n",
       "      <th>0</th>\n",
       "      <td>rewrite PTree.gempty in H.</td>\n",
       "      <td>((\"Plt b xH\", (\"H : eq (PTree.get id (PTree.em...</td>\n",
       "    </tr>\n",
       "    <tr>\n",
       "      <th>9</th>\n",
       "      <th>orig</th>\n",
       "      <th>0</th>\n",
       "      <td>rewrite PTree.gempty in H.</td>\n",
       "      <td>((\"Plt b xH\", (\"H : eq (PTree.get b (PTree.emp...</td>\n",
       "    </tr>\n",
       "    <tr>\n",
       "      <th>10</th>\n",
       "      <th>orig</th>\n",
       "      <th>0</th>\n",
       "      <td>rewrite PTree.gempty in H.</td>\n",
       "      <td>((\"eq id1 id2\", (\"H0 : eq (PTree.get id2 (PTre...</td>\n",
       "    </tr>\n",
       "    <tr>\n",
       "      <th>Cop</th>\n",
       "      <th>16</th>\n",
       "      <th>orig</th>\n",
       "      <th>0</th>\n",
       "      <td>intros.</td>\n",
       "      <td>((\"forall (v : val) (t : type) (m : Mem.mem),\\...</td>\n",
       "    </tr>\n",
       "  </tbody>\n",
       "</table>\n",
       "</div>"
      ],
      "text/plain": [
       "                                                    tactic  \\\n",
       "fname      theorem source line                               \n",
       "Globalenvs 4       orig   0       destruct ge; simpl in *.   \n",
       "           5       orig   0       destruct ge; simpl in *.   \n",
       "           6       orig   0       destruct ge; simpl in *.   \n",
       "           8       orig   0     rewrite PTree.gempty in H.   \n",
       "           9       orig   0     rewrite PTree.gempty in H.   \n",
       "           10      orig   0     rewrite PTree.gempty in H.   \n",
       "Cop        16      orig   0                        intros.   \n",
       "\n",
       "                                                                         subgoals  \n",
       "fname      theorem source line                                                     \n",
       "Globalenvs 4       orig   0     ((\"Plt b (Pos.succ (genv_next ge))\", (\"H : eq\\...  \n",
       "           5       orig   0     ((\"Plt b (Pos.succ (genv_next ge))\", (\"H : eq\\...  \n",
       "           6       orig   0     ((\"eq id1 id2\", (\"H0 : eq\\n  (PTree.get id2\\n ...  \n",
       "           8       orig   0     ((\"Plt b xH\", (\"H : eq (PTree.get id (PTree.em...  \n",
       "           9       orig   0     ((\"Plt b xH\", (\"H : eq (PTree.get b (PTree.emp...  \n",
       "           10      orig   0     ((\"eq id1 id2\", (\"H0 : eq (PTree.get id2 (PTre...  \n",
       "Cop        16      orig   0     ((\"forall (v : val) (t : type) (m : Mem.mem),\\...  "
      ]
     },
     "execution_count": 12,
     "metadata": {},
     "output_type": "execute_result"
    }
   ],
   "source": [
    "missing_start = str_proof_df.loc[idx[:, :, :, 0], :].loc[~str_proof_df['tactic'].str.startswith('Proof')].index\n",
    "\n",
    "str_proof_df.loc[missing_start]"
   ]
  },
  {
   "cell_type": "markdown",
   "metadata": {},
   "source": [
    "There are no interesting proofs that do not end in one of the normal endings for a proof (Qed, Defined, or Admitted). The only examples are proofs done in one line (although this is [discouraged](https://coq.inria.fr/doc/V8.19.0/refman/proofs/writing-proofs/proof-mode.html#coq:cmd.Proof-%60term%60) by Coq's manual), and proofs with a comment before the last line. For the former example, these will be transformed into their equivalent, `exact <term>`."
   ]
  },
  {
   "cell_type": "code",
   "execution_count": 13,
   "metadata": {},
   "outputs": [
    {
     "data": {
      "text/html": [
       "<div>\n",
       "<style scoped>\n",
       "    .dataframe tbody tr th:only-of-type {\n",
       "        vertical-align: middle;\n",
       "    }\n",
       "\n",
       "    .dataframe tbody tr th {\n",
       "        vertical-align: top;\n",
       "    }\n",
       "\n",
       "    .dataframe thead th {\n",
       "        text-align: right;\n",
       "    }\n",
       "</style>\n",
       "<table border=\"1\" class=\"dataframe\">\n",
       "  <thead>\n",
       "    <tr style=\"text-align: right;\">\n",
       "      <th></th>\n",
       "      <th></th>\n",
       "      <th></th>\n",
       "      <th></th>\n",
       "      <th>tactic</th>\n",
       "      <th>subgoals</th>\n",
       "    </tr>\n",
       "    <tr>\n",
       "      <th>fname</th>\n",
       "      <th>theorem</th>\n",
       "      <th>source</th>\n",
       "      <th>line</th>\n",
       "      <th></th>\n",
       "      <th></th>\n",
       "    </tr>\n",
       "  </thead>\n",
       "  <tbody>\n",
       "    <tr>\n",
       "      <th>Globalenvs</th>\n",
       "      <th>92</th>\n",
       "      <th>orig</th>\n",
       "      <th>0</th>\n",
       "      <td>Proof (mge_defs globalenvs_match).</td>\n",
       "      <td>((\"forall b : block,\\noption_rel (match_globde...</td>\n",
       "    </tr>\n",
       "    <tr>\n",
       "      <th rowspan=\"3\" valign=\"top\">Locations</th>\n",
       "      <th>29</th>\n",
       "      <th>orig</th>\n",
       "      <th>0</th>\n",
       "      <td>Proof (@eq_refl t).</td>\n",
       "      <td>((\"forall x : t, eq x x\", (\"\")))</td>\n",
       "    </tr>\n",
       "    <tr>\n",
       "      <th>30</th>\n",
       "      <th>orig</th>\n",
       "      <th>0</th>\n",
       "      <td>Proof (@eq_sym t).</td>\n",
       "      <td>((\"forall (x y : t) (_ : eq x y), eq y x\", (\"\")))</td>\n",
       "    </tr>\n",
       "    <tr>\n",
       "      <th>31</th>\n",
       "      <th>orig</th>\n",
       "      <th>0</th>\n",
       "      <td>Proof (@eq_trans t).</td>\n",
       "      <td>((\"forall (x y z : t) (_ : eq x y) (_ : eq y z...</td>\n",
       "    </tr>\n",
       "    <tr>\n",
       "      <th>Parmov</th>\n",
       "      <th>0</th>\n",
       "      <th>orig</th>\n",
       "      <th>0</th>\n",
       "      <td>Proof (@extensionality reg val).</td>\n",
       "      <td>((\"forall (e1 e2 : env) (_ : forall r : reg, e...</td>\n",
       "    </tr>\n",
       "    <tr>\n",
       "      <th rowspan=\"2\" valign=\"top\">SelectOpproof</th>\n",
       "      <th>1</th>\n",
       "      <th>orig</th>\n",
       "      <th>15</th>\n",
       "      <td>(*rewrite eval_Olea_ptr. apply eval_addressing...</td>\n",
       "      <td>()</td>\n",
       "    </tr>\n",
       "    <tr>\n",
       "      <th>2</th>\n",
       "      <th>orig</th>\n",
       "      <th>4</th>\n",
       "      <td>(*rewrite eval_Olea_ptr. apply eval_addressing...</td>\n",
       "      <td>()</td>\n",
       "    </tr>\n",
       "    <tr>\n",
       "      <th rowspan=\"3\" valign=\"top\">Selectionproof</th>\n",
       "      <th>7</th>\n",
       "      <th>orig</th>\n",
       "      <th>0</th>\n",
       "      <td>Proof (Genv.find_symbol_match TRANSF).</td>\n",
       "      <td>((\"forall s : ident, eq (Genv.find_symbol tge ...</td>\n",
       "    </tr>\n",
       "    <tr>\n",
       "      <th>8</th>\n",
       "      <th>orig</th>\n",
       "      <th>0</th>\n",
       "      <td>Proof (Genv.senv_match TRANSF).</td>\n",
       "      <td>((\"Senv.equiv ge tge\", (\"TRANSF : match_prog p...</td>\n",
       "    </tr>\n",
       "    <tr>\n",
       "      <th>9</th>\n",
       "      <th>orig</th>\n",
       "      <th>0</th>\n",
       "      <td>Proof (Genv.find_funct_ptr_match TRANSF).</td>\n",
       "      <td>((\"forall (b : block) (f : Cminor.fundef)\\n  (...</td>\n",
       "    </tr>\n",
       "  </tbody>\n",
       "</table>\n",
       "</div>"
      ],
      "text/plain": [
       "                                                                               tactic  \\\n",
       "fname          theorem source line                                                      \n",
       "Globalenvs     92      orig   0                    Proof (mge_defs globalenvs_match).   \n",
       "Locations      29      orig   0                                   Proof (@eq_refl t).   \n",
       "               30      orig   0                                    Proof (@eq_sym t).   \n",
       "               31      orig   0                                  Proof (@eq_trans t).   \n",
       "Parmov         0       orig   0                      Proof (@extensionality reg val).   \n",
       "SelectOpproof  1       orig   15    (*rewrite eval_Olea_ptr. apply eval_addressing...   \n",
       "               2       orig   4     (*rewrite eval_Olea_ptr. apply eval_addressing...   \n",
       "Selectionproof 7       orig   0                Proof (Genv.find_symbol_match TRANSF).   \n",
       "               8       orig   0                       Proof (Genv.senv_match TRANSF).   \n",
       "               9       orig   0             Proof (Genv.find_funct_ptr_match TRANSF).   \n",
       "\n",
       "                                                                             subgoals  \n",
       "fname          theorem source line                                                     \n",
       "Globalenvs     92      orig   0     ((\"forall b : block,\\noption_rel (match_globde...  \n",
       "Locations      29      orig   0                      ((\"forall x : t, eq x x\", (\"\")))  \n",
       "               30      orig   0     ((\"forall (x y : t) (_ : eq x y), eq y x\", (\"\")))  \n",
       "               31      orig   0     ((\"forall (x y z : t) (_ : eq x y) (_ : eq y z...  \n",
       "Parmov         0       orig   0     ((\"forall (e1 e2 : env) (_ : forall r : reg, e...  \n",
       "SelectOpproof  1       orig   15                                                   ()  \n",
       "               2       orig   4                                                    ()  \n",
       "Selectionproof 7       orig   0     ((\"forall s : ident, eq (Genv.find_symbol tge ...  \n",
       "               8       orig   0     ((\"Senv.equiv ge tge\", (\"TRANSF : match_prog p...  \n",
       "               9       orig   0     ((\"forall (b : block) (f : Cminor.fundef)\\n  (...  "
      ]
     },
     "execution_count": 13,
     "metadata": {},
     "output_type": "execute_result"
    }
   ],
   "source": [
    "# Get the last line of each proof by looking at the max line number of each proof.\n",
    "end_lines = str_proof_df.reset_index(level='line')['line'].groupby(level=['fname', 'theorem', 'source']).max()\n",
    "\n",
    "# Convert this maximum back to an index (line)\n",
    "end_index = end_lines.to_frame().reset_index().set_index(['fname', 'theorem', 'source', 'line']).sort_index().index\n",
    "\n",
    "# Show all end tactics that aren't Qed, Defined, or Admitted\n",
    "str_proof_df.loc[end_index].loc[idx[:, :, 'orig', :], :].loc[~str_proof_df['tactic'].isin(['Qed.', 'Admitted.', 'Defined.'])]"
   ]
  },
  {
   "cell_type": "markdown",
   "metadata": {},
   "source": [
    "We now remove the first and last lines of every proof, except for the proofs requiring special treatment (the single line proofs and the ones that don't start with `Proof`). This does lose a small amount of information if there are proofs that contain `Proof with <tactic>.`, since it will become unknown what the `...` refers to, but this can always be recovered, and is very rare."
   ]
  },
  {
   "cell_type": "code",
   "execution_count": 14,
   "metadata": {},
   "outputs": [],
   "source": [
    "# Get full proofs where the first line is not Proof or some variant thereof\n",
    "missing_start_full = str_proof_df.loc[str_proof_df.index.isin(missing_start.droplevel('line'))].index\n",
    "\n",
    "# Combine the 7 proofs without a \"Proof\" or other similar no-op tactic to start\n",
    "# and the 8 proofs that are exactly 1 line.\n",
    "unusual_index = missing_start_full.union(end_index[end_lines == 0])\n",
    "\n",
    "# A DataFrame of all the proofs that don't need special treatment\n",
    "normal_index = str_proof_df.index.difference(unusual_index)\n",
    "normal_df = str_proof_df.loc[normal_index]\n",
    "\n",
    "# Indexes the start and end of every \"normal\" proof\n",
    "normal_start_index = normal_df.loc[idx[:, :, :, 0], :].index\n",
    "normal_end_index = end_index.difference(unusual_index)\n",
    "to_remove_index = normal_start_index.union(normal_end_index)\n",
    "\n",
    "# Remove the first and last lines, then decrement line count by one (zero indexing)\n",
    "fixed_normal_df = normal_df.drop(index=to_remove_index).reset_index()\n",
    "fixed_normal_df['line'] = fixed_normal_df['line'] - 1\n",
    "\n",
    "# Find all of the proofs of the form `Proof term.`\n",
    "one_line_df = str_proof_df.loc[end_index[end_lines == 0]]\n",
    "# Since `Proof term.` is the same as `exact term. Qed.`, and we are removing `Qed.`, we can just replace `Proof` with `exact`.\n",
    "one_line_df['tactic'] = one_line_df['tactic'].str.replace(\"Proof\", \"exact\")\n",
    "\n",
    "proof_df = pd.concat((\n",
    "    one_line_df,\n",
    "    fixed_normal_df.set_index(['fname', 'theorem', 'source', 'line']),\n",
    "    str_proof_df.loc[missing_start_full].drop(index=end_index.intersection(missing_start_full))\n",
    ")).sort_index()\n",
    "assert(proof_df.index.is_unique)"
   ]
  },
  {
   "cell_type": "markdown",
   "metadata": {},
   "source": [
    "Finally, we create a couple of `DataFrames` that are ready to have analyses run on them."
   ]
  },
  {
   "cell_type": "code",
   "execution_count": 15,
   "metadata": {},
   "outputs": [],
   "source": [
    "# `proof_df` contains all proofs with any useful data; this is all original proofs, along with any predicted proof with something generated\n",
    "# Contains all 508 + 133 original and predicted proofs, respectively\n",
    "\n",
    "# Mirrored DataFrame; it contains a proof if and only if there is both an original proof and a predicted proof in proof_df\n",
    "# Since there are no proofs in the predicted set but not in the original set, this means it contains only the proofs with generated output\n",
    "# This makes comparisons more apples-to-apples, but may bias towards easier proofs\n",
    "useful_thms = proof_df.loc[idx[:, :, 'pred', :], :].reset_index(['source', 'line']).index.unique()\n",
    "mirror_proof_df = proof_df.loc[proof_df.index.isin(useful_thms)]"
   ]
  },
  {
   "cell_type": "markdown",
   "metadata": {},
   "source": [
    "## Analysis"
   ]
  },
  {
   "cell_type": "markdown",
   "metadata": {},
   "source": [
    "We verify on the next line that each line in our proofs contains exactly one tactic (or a bullet). There are some lines that certainly do more than one thing, however, since the `;` operator allows two or more tactics to be squished together. Whether these should be counted as separate lines is arguable, since the `;` operator also applies the second tactic on each subgoal generated, which is different than the usual behavior. Because it is difficult to estimate how many lines this tactical saves (since it could be anywhere from 1-100 lines depending on the number of subgoals), we leave it as is here, but note that it is one of the reasons for the shorter line counts."
   ]
  },
  {
   "cell_type": "code",
   "execution_count": 16,
   "metadata": {},
   "outputs": [],
   "source": [
    "a = proof_df.tactic.str.count('[-+*.]$')\n",
    "assert(len(a[a!=1]) == 0)"
   ]
  },
  {
   "cell_type": "markdown",
   "metadata": {},
   "source": [
    "### Proof Line Counts"
   ]
  },
  {
   "cell_type": "markdown",
   "metadata": {},
   "source": [
    "Note that there is only one proof (to `Selectionproof` theorem 56) that exceeds 110 lines. We will remove this proof, as at 292 lines it makes reading the data impossible."
   ]
  },
  {
   "cell_type": "code",
   "execution_count": 17,
   "metadata": {},
   "outputs": [
    {
     "data": {
      "text/html": [
       "<div>\n",
       "<style scoped>\n",
       "    .dataframe tbody tr th:only-of-type {\n",
       "        vertical-align: middle;\n",
       "    }\n",
       "\n",
       "    .dataframe tbody tr th {\n",
       "        vertical-align: top;\n",
       "    }\n",
       "\n",
       "    .dataframe thead th {\n",
       "        text-align: right;\n",
       "    }\n",
       "</style>\n",
       "<table border=\"1\" class=\"dataframe\">\n",
       "  <thead>\n",
       "    <tr style=\"text-align: right;\">\n",
       "      <th></th>\n",
       "      <th>fname</th>\n",
       "      <th>theorem</th>\n",
       "      <th>source</th>\n",
       "      <th>line</th>\n",
       "    </tr>\n",
       "  </thead>\n",
       "  <tbody>\n",
       "    <tr>\n",
       "      <th>114</th>\n",
       "      <td>Globalenvs</td>\n",
       "      <td>63</td>\n",
       "      <td>orig</td>\n",
       "      <td>106</td>\n",
       "    </tr>\n",
       "    <tr>\n",
       "      <th>400</th>\n",
       "      <td>SelectOpproof</td>\n",
       "      <td>5</td>\n",
       "      <td>orig</td>\n",
       "      <td>102</td>\n",
       "    </tr>\n",
       "    <tr>\n",
       "      <th>547</th>\n",
       "      <td>Selectionproof</td>\n",
       "      <td>56</td>\n",
       "      <td>orig</td>\n",
       "      <td>292</td>\n",
       "    </tr>\n",
       "  </tbody>\n",
       "</table>\n",
       "</div>"
      ],
      "text/plain": [
       "              fname  theorem source  line\n",
       "114      Globalenvs       63   orig   106\n",
       "400   SelectOpproof        5   orig   102\n",
       "547  Selectionproof       56   orig   292"
      ]
     },
     "execution_count": 17,
     "metadata": {},
     "output_type": "execute_result"
    }
   ],
   "source": [
    "lens = (proof_df.reset_index('line')['line'].groupby(['fname', 'theorem', 'source']).max() + 1).reset_index()\n",
    "\n",
    "lens[lens.line > 100]"
   ]
  },
  {
   "cell_type": "markdown",
   "metadata": {},
   "source": [
    "We now compare the line counts of the proofs in the dataset."
   ]
  },
  {
   "cell_type": "code",
   "execution_count": 18,
   "metadata": {},
   "outputs": [],
   "source": [
    "def calc_line_count(df: pd.DataFrame):\n",
    "    # Length of each proof is the last line index, plus 1 due to 0 indexing\n",
    "    return df.reset_index('line')['line'].groupby(['fname', 'theorem', 'source']).max() + 1\n",
    "\n",
    "def plot_line_count(df: pd.DataFrame, ax = None, **kwargs):\n",
    "    lens = calc_line_count(df).reset_index()\n",
    "    # Normalize separately since the number of items in the two subsets are not the same\n",
    "    norm_lens = pd.concat([lens[lens.source == 'orig'].value_counts(normalize=True), lens[lens.source == 'pred'].value_counts(normalize=True)]).reset_index()\n",
    "\n",
    "    ax = sns.histplot(data=norm_lens, x='line', weights='proportion', hue='source', discrete=True, ax=ax)\n",
    "    ax.set(xlabel='Line Count', ylabel='Proportion', **kwargs);"
   ]
  },
  {
   "cell_type": "code",
   "execution_count": 19,
   "metadata": {},
   "outputs": [
    {
     "data": {
      "image/png": "[encoded data removed]",
      "text/plain": [
       "<Figure size 2000x500 with 2 Axes>"
      ]
     },
     "metadata": {},
     "output_type": "display_data"
    }
   ],
   "source": [
    "# Remove the 300 line proof so that we can see what is happening\n",
    "acceptable = proof_df.index.difference(proof_df.loc[idx['Selectionproof', 56, 'orig', :], :].index)\n",
    "\n",
    "fig, axs = plt.subplots(1, 2, sharey=True, figsize=(20, 5), width_ratios=[1, 4])\n",
    "fig.tight_layout()\n",
    "\n",
    "plot_line_count(mirror_proof_df,                 ax=axs[0], xticks=range(0, 22, 2),  title='Line Count (Mirrored)')\n",
    "plot_line_count(proof_df.loc[acceptable], ax=axs[1], xticks=range(0, 111, 5), title='Line Count (All)',    xlim=(-1, 111))"
   ]
  },
  {
   "cell_type": "code",
   "execution_count": 20,
   "metadata": {},
   "outputs": [
    {
     "data": {
      "text/plain": [
       "mean      7.473684\n",
       "median    6.000000\n",
       "Name: line, dtype: float64"
      ]
     },
     "execution_count": 20,
     "metadata": {},
     "output_type": "execute_result"
    }
   ],
   "source": [
    "# Average of solutions by Proverbot:\n",
    "calc_line_count(mirror_proof_df.loc[idx[:, :, 'pred'], :]).agg(['mean', 'median'])"
   ]
  },
  {
   "cell_type": "code",
   "execution_count": 21,
   "metadata": {},
   "outputs": [
    {
     "data": {
      "text/plain": [
       "mean      3.736842\n",
       "median    3.000000\n",
       "Name: line, dtype: float64"
      ]
     },
     "execution_count": 21,
     "metadata": {},
     "output_type": "execute_result"
    }
   ],
   "source": [
    "# Average of original proofs also solved by Proverbot:\n",
    "calc_line_count(mirror_proof_df.loc[idx[:, :, 'orig'], :]).agg(['mean', 'median'])"
   ]
  },
  {
   "cell_type": "code",
   "execution_count": 22,
   "metadata": {},
   "outputs": [
    {
     "data": {
      "text/plain": [
       "mean      13.005906\n",
       "median     7.000000\n",
       "Name: line, dtype: float64"
      ]
     },
     "execution_count": 22,
     "metadata": {},
     "output_type": "execute_result"
    }
   ],
   "source": [
    "# Average of all original proofs:\n",
    "calc_line_count(proof_df.loc[idx[:, :, 'orig'], :]).agg(['mean', 'median'])"
   ]
  },
  {
   "cell_type": "markdown",
   "metadata": {},
   "source": [
    "With the averages above, we see that while the original proofs are on average longer than the generated proofs (around 8 lines, though heavily skewed), when looking only at the mirrored dataset, the original proofs are shorter (closer to 3-4 lines) than Proverbot's predictions (on average 6-7 lines).\n",
    "\n",
    "To see how Proverbot compares on each theorem, we look at the differences in line counts between the proofs that were generated and the original proofs."
   ]
  },
  {
   "cell_type": "code",
   "execution_count": 23,
   "metadata": {},
   "outputs": [
    {
     "data": {
      "image/png": "[encoded data removed]",
      "text/plain": [
       "<Figure size 640x480 with 1 Axes>"
      ]
     },
     "metadata": {},
     "output_type": "display_data"
    }
   ],
   "source": [
    "lens = calc_line_count(mirror_proof_df)\n",
    "ax = sns.histplot(lens.loc[idx[:, :, 'pred']] - lens.loc[idx[:, :, 'orig']], discrete=True)\n",
    "ax.set(xlim=[-16, 16], yticks=range(0, 21, 2), xlabel=\"Extra Predicted Lines\", title=\"Distribution of Line Count Increases/Decreases\")\n",
    "ax.axvline(0, color='k', linestyle='--');"
   ]
  },
  {
   "cell_type": "code",
   "execution_count": 24,
   "metadata": {},
   "outputs": [
    {
     "data": {
      "text/plain": [
       "mean      3.736842\n",
       "median    3.000000\n",
       "Name: line, dtype: float64"
      ]
     },
     "execution_count": 24,
     "metadata": {},
     "output_type": "execute_result"
    }
   ],
   "source": [
    "(lens.loc[idx[:, :, 'pred']] - lens.loc[idx[:, :, 'orig']]).agg(['mean', 'median'])"
   ]
  },
  {
   "cell_type": "markdown",
   "metadata": {},
   "source": [
    "Indeed, we see that most Proverbot proofs use around 3-4 extra lines over the original, although a small selection do better than the original (negative values)."
   ]
  },
  {
   "cell_type": "markdown",
   "metadata": {},
   "source": [
    "### Tactic Frequency"
   ]
  },
  {
   "cell_type": "code",
   "execution_count": 25,
   "metadata": {},
   "outputs": [
    {
     "data": {
      "text/plain": [
       "fname  theorem  source  line\n",
       "Cop    0        orig    0         unfold\n",
       "                        0           auto\n",
       "                pred    0         intros\n",
       "                        1         unfold\n",
       "                        2       destruct\n",
       "                                  ...   \n",
       "Zaux   56       orig    12       rewrite\n",
       "                        13       rewrite\n",
       "                        14         apply\n",
       "                        15        intros\n",
       "                        16          easy\n",
       "Name: 0, Length: 10107, dtype: object"
      ]
     },
     "execution_count": 25,
     "metadata": {},
     "output_type": "execute_result"
    }
   ],
   "source": [
    "# Strip comments\n",
    "no_comments = proof_df.tactic.str.replace(r'\\(\\*.*?\\*\\)', '', regex=True)\n",
    "# Strip goal selectors\n",
    "no_selectors = no_comments.str.replace(r'^\\d+:', '', regex=True)\n",
    "# Delete Ltac declarations\n",
    "no_ltac = no_selectors.drop(index=no_selectors[no_selectors.str.startswith('Ltac')].index)\n",
    "\n",
    "# Get all tactics, including those combined with ;\n",
    "tactic_invocations = no_ltac.str.split(';').explode().str.strip()\n",
    "# Remove subgoals handled with [ | ] syntax, as this is so rare it is not worth handling specially.\n",
    "no_brackets = tactic_invocations.drop(index=tactic_invocations[tactic_invocations.str.startswith('[')].index)\n",
    "\n",
    "tactics = no_brackets.str.split(r'[ .()=]', n=1, expand=True)[0]\n",
    "\n",
    "tactics"
   ]
  },
  {
   "cell_type": "code",
   "execution_count": 26,
   "metadata": {},
   "outputs": [
    {
     "data": {
      "image/png": "[encoded data removed]",
      "text/plain": [
       "<Figure size 1081.75x1000 with 2 Axes>"
      ]
     },
     "metadata": {},
     "output_type": "display_data"
    }
   ],
   "source": [
    "docs = {\n",
    "    ' '.join(proof_df.loc[idx[:, :, 'orig', :], :].tactic.to_list()),\n",
    "    ' '.join(proof_df.loc[idx[:, :, 'pred', :], :].tactic.to_list()),\n",
    "}\n",
    "vocab = tactics.unique()[:50]\n",
    "\n",
    "count_vectors = CountVectorizer(vocabulary=vocab, lowercase=False).fit_transform(raw_documents=docs).todense()\n",
    "counts = pd.DataFrame(np.vstack((vocab, count_vectors)).T, columns=['tactic', 'orig', 'pred'])\n",
    "counts['total'] = counts['orig'] + counts['pred']\n",
    "counts = counts.sort_values(by='orig', ascending=False)\n",
    "\n",
    "proportions = counts.copy()\n",
    "proportions['orig'] /= proportions['orig'].sum()\n",
    "proportions['pred'] /= proportions['pred'].sum()\n",
    "\n",
    "melted_prop = proportions.melt(id_vars='tactic', value_vars=['orig', 'pred'], var_name='source', value_name='proportion')\n",
    "\n",
    "sns.catplot(data=melted_prop, y='tactic', x='proportion', col='source', hue='source', kind='bar', height=10, aspect=0.5, sharey=False);"
   ]
  },
  {
   "cell_type": "code",
   "execution_count": 27,
   "metadata": {},
   "outputs": [
    {
     "data": {
      "image/png": "[encoded data removed]",
      "text/plain": [
       "<Figure size 1081.75x1000 with 2 Axes>"
      ]
     },
     "metadata": {},
     "output_type": "display_data"
    }
   ],
   "source": [
    "vocab = counts['tactic']\n",
    "\n",
    "tfidf_vectors = TfidfVectorizer(vocabulary=vocab, lowercase=False).fit_transform(raw_documents=docs).todense()\n",
    "tfidf = pd.DataFrame(np.vstack((vocab, tfidf_vectors)).T, columns=['tactic', 'orig', 'pred'])\n",
    "\n",
    "melted_tfidf = tfidf.melt(id_vars='tactic', value_vars=['orig', 'pred'], var_name='source', value_name='TF-IDF')\n",
    "\n",
    "sns.catplot(data=melted_tfidf, y='tactic', x='TF-IDF', col='source', hue='source', kind='bar', height=10, aspect=0.5, sharey=False);"
   ]
  }
 ],
 "metadata": {
  "kernelspec": {
   "display_name": "base",
   "language": "python",
   "name": "python3"
  },
  "language_info": {
   "codemirror_mode": {
    "name": "ipython",
    "version": 3
   },
   "file_extension": ".py",
   "mimetype": "text/x-python",
   "name": "python",
   "nbconvert_exporter": "python",
   "pygments_lexer": "ipython3",
   "version": "3.12.1"
  }
 },
 "nbformat": 4,
 "nbformat_minor": 2
}
